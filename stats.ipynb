{
 "cells": [
  {
   "cell_type": "markdown",
   "id": "48b4e6f9",
   "metadata": {},
   "source": [
    "### ONLINE PAYMENT FRAUD DETECTION\n",
    "Dataset from kaggle.com\n",
    "\n"
   ]
  },
  {
   "cell_type": "code",
   "execution_count": 1,
   "id": "d3475a19",
   "metadata": {},
   "outputs": [],
   "source": [
    "#import libraries \n",
    "import pandas as pd\n",
    "import numpy as np\n",
    "#data visualization\n",
    "import matplotlib.pyplot as plt\n",
    "import seaborn as sns\n",
    "import warnings\n",
    "warnings.filterwarnings('ignore')"
   ]
  },
  {
   "cell_type": "code",
   "execution_count": 2,
   "id": "e3f7ac9c",
   "metadata": {},
   "outputs": [],
   "source": [
    "#load the data set\n",
    "data=pd.read_csv('fraud detection.csv')"
   ]
  },
  {
   "cell_type": "code",
   "execution_count": 3,
   "id": "8ccbba3a",
   "metadata": {},
   "outputs": [
    {
     "data": {
      "text/html": [
       "<div>\n",
       "<style scoped>\n",
       "    .dataframe tbody tr th:only-of-type {\n",
       "        vertical-align: middle;\n",
       "    }\n",
       "\n",
       "    .dataframe tbody tr th {\n",
       "        vertical-align: top;\n",
       "    }\n",
       "\n",
       "    .dataframe thead th {\n",
       "        text-align: right;\n",
       "    }\n",
       "</style>\n",
       "<table border=\"1\" class=\"dataframe\">\n",
       "  <thead>\n",
       "    <tr style=\"text-align: right;\">\n",
       "      <th></th>\n",
       "      <th>step</th>\n",
       "      <th>type</th>\n",
       "      <th>amount</th>\n",
       "      <th>nameOrig</th>\n",
       "      <th>oldbalanceOrg</th>\n",
       "      <th>newbalanceOrig</th>\n",
       "      <th>nameDest</th>\n",
       "      <th>oldbalanceDest</th>\n",
       "      <th>newbalanceDest</th>\n",
       "      <th>isFraud</th>\n",
       "      <th>isFlaggedFraud</th>\n",
       "    </tr>\n",
       "  </thead>\n",
       "  <tbody>\n",
       "    <tr>\n",
       "      <th>0</th>\n",
       "      <td>1</td>\n",
       "      <td>PAYMENT</td>\n",
       "      <td>9839.64</td>\n",
       "      <td>C1231006815</td>\n",
       "      <td>170136.0</td>\n",
       "      <td>160296.36</td>\n",
       "      <td>M1979787155</td>\n",
       "      <td>0.0</td>\n",
       "      <td>0.0</td>\n",
       "      <td>0</td>\n",
       "      <td>0</td>\n",
       "    </tr>\n",
       "    <tr>\n",
       "      <th>1</th>\n",
       "      <td>1</td>\n",
       "      <td>PAYMENT</td>\n",
       "      <td>1864.28</td>\n",
       "      <td>C1666544295</td>\n",
       "      <td>21249.0</td>\n",
       "      <td>19384.72</td>\n",
       "      <td>M2044282225</td>\n",
       "      <td>0.0</td>\n",
       "      <td>0.0</td>\n",
       "      <td>0</td>\n",
       "      <td>0</td>\n",
       "    </tr>\n",
       "    <tr>\n",
       "      <th>2</th>\n",
       "      <td>1</td>\n",
       "      <td>TRANSFER</td>\n",
       "      <td>181.00</td>\n",
       "      <td>C1305486145</td>\n",
       "      <td>181.0</td>\n",
       "      <td>0.00</td>\n",
       "      <td>C553264065</td>\n",
       "      <td>0.0</td>\n",
       "      <td>0.0</td>\n",
       "      <td>1</td>\n",
       "      <td>0</td>\n",
       "    </tr>\n",
       "    <tr>\n",
       "      <th>3</th>\n",
       "      <td>1</td>\n",
       "      <td>CASH_OUT</td>\n",
       "      <td>181.00</td>\n",
       "      <td>C840083671</td>\n",
       "      <td>181.0</td>\n",
       "      <td>0.00</td>\n",
       "      <td>C38997010</td>\n",
       "      <td>21182.0</td>\n",
       "      <td>0.0</td>\n",
       "      <td>1</td>\n",
       "      <td>0</td>\n",
       "    </tr>\n",
       "    <tr>\n",
       "      <th>4</th>\n",
       "      <td>1</td>\n",
       "      <td>PAYMENT</td>\n",
       "      <td>11668.14</td>\n",
       "      <td>C2048537720</td>\n",
       "      <td>41554.0</td>\n",
       "      <td>29885.86</td>\n",
       "      <td>M1230701703</td>\n",
       "      <td>0.0</td>\n",
       "      <td>0.0</td>\n",
       "      <td>0</td>\n",
       "      <td>0</td>\n",
       "    </tr>\n",
       "  </tbody>\n",
       "</table>\n",
       "</div>"
      ],
      "text/plain": [
       "   step      type    amount     nameOrig  oldbalanceOrg  newbalanceOrig  \\\n",
       "0     1   PAYMENT   9839.64  C1231006815       170136.0       160296.36   \n",
       "1     1   PAYMENT   1864.28  C1666544295        21249.0        19384.72   \n",
       "2     1  TRANSFER    181.00  C1305486145          181.0            0.00   \n",
       "3     1  CASH_OUT    181.00   C840083671          181.0            0.00   \n",
       "4     1   PAYMENT  11668.14  C2048537720        41554.0        29885.86   \n",
       "\n",
       "      nameDest  oldbalanceDest  newbalanceDest  isFraud  isFlaggedFraud  \n",
       "0  M1979787155             0.0             0.0        0               0  \n",
       "1  M2044282225             0.0             0.0        0               0  \n",
       "2   C553264065             0.0             0.0        1               0  \n",
       "3    C38997010         21182.0             0.0        1               0  \n",
       "4  M1230701703             0.0             0.0        0               0  "
      ]
     },
     "execution_count": 3,
     "metadata": {},
     "output_type": "execute_result"
    }
   ],
   "source": [
    "#view  first five of data set using head()\n",
    "data.head()\n"
   ]
  },
  {
   "cell_type": "code",
   "execution_count": 4,
   "id": "95458a4d",
   "metadata": {},
   "outputs": [
    {
     "data": {
      "text/html": [
       "<div>\n",
       "<style scoped>\n",
       "    .dataframe tbody tr th:only-of-type {\n",
       "        vertical-align: middle;\n",
       "    }\n",
       "\n",
       "    .dataframe tbody tr th {\n",
       "        vertical-align: top;\n",
       "    }\n",
       "\n",
       "    .dataframe thead th {\n",
       "        text-align: right;\n",
       "    }\n",
       "</style>\n",
       "<table border=\"1\" class=\"dataframe\">\n",
       "  <thead>\n",
       "    <tr style=\"text-align: right;\">\n",
       "      <th></th>\n",
       "      <th>step</th>\n",
       "      <th>type</th>\n",
       "      <th>amount</th>\n",
       "      <th>nameOrig</th>\n",
       "      <th>oldbalanceOrg</th>\n",
       "      <th>newbalanceOrig</th>\n",
       "      <th>nameDest</th>\n",
       "      <th>oldbalanceDest</th>\n",
       "      <th>newbalanceDest</th>\n",
       "      <th>isFraud</th>\n",
       "      <th>isFlaggedFraud</th>\n",
       "    </tr>\n",
       "  </thead>\n",
       "  <tbody>\n",
       "    <tr>\n",
       "      <th>1048570</th>\n",
       "      <td>95</td>\n",
       "      <td>CASH_OUT</td>\n",
       "      <td>132557.35</td>\n",
       "      <td>C1179511630</td>\n",
       "      <td>479803.00</td>\n",
       "      <td>347245.65</td>\n",
       "      <td>C435674507</td>\n",
       "      <td>484329.37</td>\n",
       "      <td>616886.72</td>\n",
       "      <td>0</td>\n",
       "      <td>0</td>\n",
       "    </tr>\n",
       "    <tr>\n",
       "      <th>1048571</th>\n",
       "      <td>95</td>\n",
       "      <td>PAYMENT</td>\n",
       "      <td>9917.36</td>\n",
       "      <td>C1956161225</td>\n",
       "      <td>90545.00</td>\n",
       "      <td>80627.64</td>\n",
       "      <td>M668364942</td>\n",
       "      <td>0.00</td>\n",
       "      <td>0.00</td>\n",
       "      <td>0</td>\n",
       "      <td>0</td>\n",
       "    </tr>\n",
       "    <tr>\n",
       "      <th>1048572</th>\n",
       "      <td>95</td>\n",
       "      <td>PAYMENT</td>\n",
       "      <td>14140.05</td>\n",
       "      <td>C2037964975</td>\n",
       "      <td>20545.00</td>\n",
       "      <td>6404.95</td>\n",
       "      <td>M1355182933</td>\n",
       "      <td>0.00</td>\n",
       "      <td>0.00</td>\n",
       "      <td>0</td>\n",
       "      <td>0</td>\n",
       "    </tr>\n",
       "    <tr>\n",
       "      <th>1048573</th>\n",
       "      <td>95</td>\n",
       "      <td>PAYMENT</td>\n",
       "      <td>10020.05</td>\n",
       "      <td>C1633237354</td>\n",
       "      <td>90605.00</td>\n",
       "      <td>80584.95</td>\n",
       "      <td>M1964992463</td>\n",
       "      <td>0.00</td>\n",
       "      <td>0.00</td>\n",
       "      <td>0</td>\n",
       "      <td>0</td>\n",
       "    </tr>\n",
       "    <tr>\n",
       "      <th>1048574</th>\n",
       "      <td>95</td>\n",
       "      <td>PAYMENT</td>\n",
       "      <td>11450.03</td>\n",
       "      <td>C1264356443</td>\n",
       "      <td>80584.95</td>\n",
       "      <td>69134.92</td>\n",
       "      <td>M677577406</td>\n",
       "      <td>0.00</td>\n",
       "      <td>0.00</td>\n",
       "      <td>0</td>\n",
       "      <td>0</td>\n",
       "    </tr>\n",
       "  </tbody>\n",
       "</table>\n",
       "</div>"
      ],
      "text/plain": [
       "         step      type     amount     nameOrig  oldbalanceOrg  \\\n",
       "1048570    95  CASH_OUT  132557.35  C1179511630      479803.00   \n",
       "1048571    95   PAYMENT    9917.36  C1956161225       90545.00   \n",
       "1048572    95   PAYMENT   14140.05  C2037964975       20545.00   \n",
       "1048573    95   PAYMENT   10020.05  C1633237354       90605.00   \n",
       "1048574    95   PAYMENT   11450.03  C1264356443       80584.95   \n",
       "\n",
       "         newbalanceOrig     nameDest  oldbalanceDest  newbalanceDest  isFraud  \\\n",
       "1048570       347245.65   C435674507       484329.37       616886.72        0   \n",
       "1048571        80627.64   M668364942            0.00            0.00        0   \n",
       "1048572         6404.95  M1355182933            0.00            0.00        0   \n",
       "1048573        80584.95  M1964992463            0.00            0.00        0   \n",
       "1048574        69134.92   M677577406            0.00            0.00        0   \n",
       "\n",
       "         isFlaggedFraud  \n",
       "1048570               0  \n",
       "1048571               0  \n",
       "1048572               0  \n",
       "1048573               0  \n",
       "1048574               0  "
      ]
     },
     "execution_count": 4,
     "metadata": {},
     "output_type": "execute_result"
    }
   ],
   "source": [
    "#view the bottom 5 using tail()\n",
    "data.tail()"
   ]
  },
  {
   "cell_type": "markdown",
   "id": "1ea7c6a2",
   "metadata": {},
   "source": [
    "### Data Dictionary\n",
    "\n",
    "-  step: represents a unit of time where 1 step equals 1 hour\n",
    "\n",
    "- type: type of online transaction\n",
    "\n",
    "- amount: the amount of the transaction\n",
    "\n",
    "- nameOrig: customer starting the transaction \n",
    "\n",
    "- oldbalanceOrg: balance before the transaction \n",
    "\n",
    "- newbalanceOrig: balance after the transaction \n",
    "\n",
    "- nameDest: recipient of the transaction\n",
    "\n",
    "- oldbalanceDest: initial balance of recipient before the transaction\n",
    "\n",
    "- newbalanceDest: the new balance of the recipient after the transaction\n",
    "\n",
    "- isFraud: fraud transaction"
   ]
  },
  {
   "cell_type": "markdown",
   "id": "32552dc5",
   "metadata": {},
   "source": [
    "### Data Cleaning(cleaning a messy data)\n",
    "-  Checking Missing Values\n",
    "-  Checking if our features have the right Dtypes\n",
    "-  Checking duplicates\n",
    "   \n",
    " #### Data Manipulation( arranging data  for easy interpretation)\n",
    "-     Renaming or Replacing texts\n",
    "-     dropping duplicated attributes"
   ]
  },
  {
   "cell_type": "code",
   "execution_count": 5,
   "id": "0df9e67b",
   "metadata": {},
   "outputs": [
    {
     "data": {
      "text/plain": [
       "step              0\n",
       "type              0\n",
       "amount            0\n",
       "nameOrig          0\n",
       "oldbalanceOrg     0\n",
       "newbalanceOrig    0\n",
       "nameDest          0\n",
       "oldbalanceDest    0\n",
       "newbalanceDest    0\n",
       "isFraud           0\n",
       "isFlaggedFraud    0\n",
       "dtype: int64"
      ]
     },
     "execution_count": 5,
     "metadata": {},
     "output_type": "execute_result"
    }
   ],
   "source": [
    "#check for missing values\n",
    "data.isnull().sum()"
   ]
  },
  {
   "cell_type": "code",
   "execution_count": 6,
   "id": "98f6a84f",
   "metadata": {},
   "outputs": [
    {
     "name": "stdout",
     "output_type": "stream",
     "text": [
      "<class 'pandas.core.frame.DataFrame'>\n",
      "RangeIndex: 1048575 entries, 0 to 1048574\n",
      "Data columns (total 11 columns):\n",
      " #   Column          Non-Null Count    Dtype  \n",
      "---  ------          --------------    -----  \n",
      " 0   step            1048575 non-null  int64  \n",
      " 1   type            1048575 non-null  object \n",
      " 2   amount          1048575 non-null  float64\n",
      " 3   nameOrig        1048575 non-null  object \n",
      " 4   oldbalanceOrg   1048575 non-null  float64\n",
      " 5   newbalanceOrig  1048575 non-null  float64\n",
      " 6   nameDest        1048575 non-null  object \n",
      " 7   oldbalanceDest  1048575 non-null  float64\n",
      " 8   newbalanceDest  1048575 non-null  float64\n",
      " 9   isFraud         1048575 non-null  int64  \n",
      " 10  isFlaggedFraud  1048575 non-null  int64  \n",
      "dtypes: float64(5), int64(3), object(3)\n",
      "memory usage: 88.0+ MB\n"
     ]
    }
   ],
   "source": [
    "#data types of the data set\n",
    "data.info()"
   ]
  },
  {
   "cell_type": "code",
   "execution_count": 7,
   "id": "92040363",
   "metadata": {},
   "outputs": [
    {
     "data": {
      "text/plain": [
       "0"
      ]
     },
     "execution_count": 7,
     "metadata": {},
     "output_type": "execute_result"
    }
   ],
   "source": [
    "#check for duplicates\n",
    "data.duplicated().sum()"
   ]
  },
  {
   "cell_type": "code",
   "execution_count": 8,
   "id": "6096ff86",
   "metadata": {},
   "outputs": [
    {
     "data": {
      "text/html": [
       "<div>\n",
       "<style scoped>\n",
       "    .dataframe tbody tr th:only-of-type {\n",
       "        vertical-align: middle;\n",
       "    }\n",
       "\n",
       "    .dataframe tbody tr th {\n",
       "        vertical-align: top;\n",
       "    }\n",
       "\n",
       "    .dataframe thead th {\n",
       "        text-align: right;\n",
       "    }\n",
       "</style>\n",
       "<table border=\"1\" class=\"dataframe\">\n",
       "  <thead>\n",
       "    <tr style=\"text-align: right;\">\n",
       "      <th></th>\n",
       "      <th>step</th>\n",
       "      <th>amount</th>\n",
       "      <th>oldbalanceOrg</th>\n",
       "      <th>newbalanceOrig</th>\n",
       "      <th>oldbalanceDest</th>\n",
       "      <th>newbalanceDest</th>\n",
       "      <th>isFraud</th>\n",
       "      <th>isFlaggedFraud</th>\n",
       "    </tr>\n",
       "  </thead>\n",
       "  <tbody>\n",
       "    <tr>\n",
       "      <th>count</th>\n",
       "      <td>1.048575e+06</td>\n",
       "      <td>1.048575e+06</td>\n",
       "      <td>1.048575e+06</td>\n",
       "      <td>1.048575e+06</td>\n",
       "      <td>1.048575e+06</td>\n",
       "      <td>1.048575e+06</td>\n",
       "      <td>1.048575e+06</td>\n",
       "      <td>1048575.0</td>\n",
       "    </tr>\n",
       "    <tr>\n",
       "      <th>mean</th>\n",
       "      <td>2.696617e+01</td>\n",
       "      <td>1.586670e+05</td>\n",
       "      <td>8.740095e+05</td>\n",
       "      <td>8.938089e+05</td>\n",
       "      <td>9.781600e+05</td>\n",
       "      <td>1.114198e+06</td>\n",
       "      <td>1.089097e-03</td>\n",
       "      <td>0.0</td>\n",
       "    </tr>\n",
       "    <tr>\n",
       "      <th>std</th>\n",
       "      <td>1.562325e+01</td>\n",
       "      <td>2.649409e+05</td>\n",
       "      <td>2.971751e+06</td>\n",
       "      <td>3.008271e+06</td>\n",
       "      <td>2.296780e+06</td>\n",
       "      <td>2.416593e+06</td>\n",
       "      <td>3.298351e-02</td>\n",
       "      <td>0.0</td>\n",
       "    </tr>\n",
       "    <tr>\n",
       "      <th>min</th>\n",
       "      <td>1.000000e+00</td>\n",
       "      <td>1.000000e-01</td>\n",
       "      <td>0.000000e+00</td>\n",
       "      <td>0.000000e+00</td>\n",
       "      <td>0.000000e+00</td>\n",
       "      <td>0.000000e+00</td>\n",
       "      <td>0.000000e+00</td>\n",
       "      <td>0.0</td>\n",
       "    </tr>\n",
       "    <tr>\n",
       "      <th>25%</th>\n",
       "      <td>1.500000e+01</td>\n",
       "      <td>1.214907e+04</td>\n",
       "      <td>0.000000e+00</td>\n",
       "      <td>0.000000e+00</td>\n",
       "      <td>0.000000e+00</td>\n",
       "      <td>0.000000e+00</td>\n",
       "      <td>0.000000e+00</td>\n",
       "      <td>0.0</td>\n",
       "    </tr>\n",
       "    <tr>\n",
       "      <th>50%</th>\n",
       "      <td>2.000000e+01</td>\n",
       "      <td>7.634333e+04</td>\n",
       "      <td>1.600200e+04</td>\n",
       "      <td>0.000000e+00</td>\n",
       "      <td>1.263772e+05</td>\n",
       "      <td>2.182604e+05</td>\n",
       "      <td>0.000000e+00</td>\n",
       "      <td>0.0</td>\n",
       "    </tr>\n",
       "    <tr>\n",
       "      <th>75%</th>\n",
       "      <td>3.900000e+01</td>\n",
       "      <td>2.137619e+05</td>\n",
       "      <td>1.366420e+05</td>\n",
       "      <td>1.746000e+05</td>\n",
       "      <td>9.159235e+05</td>\n",
       "      <td>1.149808e+06</td>\n",
       "      <td>0.000000e+00</td>\n",
       "      <td>0.0</td>\n",
       "    </tr>\n",
       "    <tr>\n",
       "      <th>max</th>\n",
       "      <td>9.500000e+01</td>\n",
       "      <td>1.000000e+07</td>\n",
       "      <td>3.890000e+07</td>\n",
       "      <td>3.890000e+07</td>\n",
       "      <td>4.210000e+07</td>\n",
       "      <td>4.220000e+07</td>\n",
       "      <td>1.000000e+00</td>\n",
       "      <td>0.0</td>\n",
       "    </tr>\n",
       "  </tbody>\n",
       "</table>\n",
       "</div>"
      ],
      "text/plain": [
       "               step        amount  oldbalanceOrg  newbalanceOrig  \\\n",
       "count  1.048575e+06  1.048575e+06   1.048575e+06    1.048575e+06   \n",
       "mean   2.696617e+01  1.586670e+05   8.740095e+05    8.938089e+05   \n",
       "std    1.562325e+01  2.649409e+05   2.971751e+06    3.008271e+06   \n",
       "min    1.000000e+00  1.000000e-01   0.000000e+00    0.000000e+00   \n",
       "25%    1.500000e+01  1.214907e+04   0.000000e+00    0.000000e+00   \n",
       "50%    2.000000e+01  7.634333e+04   1.600200e+04    0.000000e+00   \n",
       "75%    3.900000e+01  2.137619e+05   1.366420e+05    1.746000e+05   \n",
       "max    9.500000e+01  1.000000e+07   3.890000e+07    3.890000e+07   \n",
       "\n",
       "       oldbalanceDest  newbalanceDest       isFraud  isFlaggedFraud  \n",
       "count    1.048575e+06    1.048575e+06  1.048575e+06       1048575.0  \n",
       "mean     9.781600e+05    1.114198e+06  1.089097e-03             0.0  \n",
       "std      2.296780e+06    2.416593e+06  3.298351e-02             0.0  \n",
       "min      0.000000e+00    0.000000e+00  0.000000e+00             0.0  \n",
       "25%      0.000000e+00    0.000000e+00  0.000000e+00             0.0  \n",
       "50%      1.263772e+05    2.182604e+05  0.000000e+00             0.0  \n",
       "75%      9.159235e+05    1.149808e+06  0.000000e+00             0.0  \n",
       "max      4.210000e+07    4.220000e+07  1.000000e+00             0.0  "
      ]
     },
     "execution_count": 8,
     "metadata": {},
     "output_type": "execute_result"
    }
   ],
   "source": [
    "#statistical analysis of  Numerical data set\n",
    "data.describe()"
   ]
  },
  {
   "cell_type": "code",
   "execution_count": 9,
   "id": "6153b1a0",
   "metadata": {},
   "outputs": [
    {
     "data": {
      "text/html": [
       "<div>\n",
       "<style scoped>\n",
       "    .dataframe tbody tr th:only-of-type {\n",
       "        vertical-align: middle;\n",
       "    }\n",
       "\n",
       "    .dataframe tbody tr th {\n",
       "        vertical-align: top;\n",
       "    }\n",
       "\n",
       "    .dataframe thead th {\n",
       "        text-align: right;\n",
       "    }\n",
       "</style>\n",
       "<table border=\"1\" class=\"dataframe\">\n",
       "  <thead>\n",
       "    <tr style=\"text-align: right;\">\n",
       "      <th></th>\n",
       "      <th>type</th>\n",
       "      <th>nameOrig</th>\n",
       "      <th>nameDest</th>\n",
       "    </tr>\n",
       "  </thead>\n",
       "  <tbody>\n",
       "    <tr>\n",
       "      <th>count</th>\n",
       "      <td>1048575</td>\n",
       "      <td>1048575</td>\n",
       "      <td>1048575</td>\n",
       "    </tr>\n",
       "    <tr>\n",
       "      <th>unique</th>\n",
       "      <td>5</td>\n",
       "      <td>1048317</td>\n",
       "      <td>449635</td>\n",
       "    </tr>\n",
       "    <tr>\n",
       "      <th>top</th>\n",
       "      <td>CASH_OUT</td>\n",
       "      <td>C1214450722</td>\n",
       "      <td>C985934102</td>\n",
       "    </tr>\n",
       "    <tr>\n",
       "      <th>freq</th>\n",
       "      <td>373641</td>\n",
       "      <td>2</td>\n",
       "      <td>98</td>\n",
       "    </tr>\n",
       "  </tbody>\n",
       "</table>\n",
       "</div>"
      ],
      "text/plain": [
       "            type     nameOrig    nameDest\n",
       "count    1048575      1048575     1048575\n",
       "unique         5      1048317      449635\n",
       "top     CASH_OUT  C1214450722  C985934102\n",
       "freq      373641            2          98"
      ]
     },
     "execution_count": 9,
     "metadata": {},
     "output_type": "execute_result"
    }
   ],
   "source": [
    "#categorical features statistics\n",
    "data.describe(include='object')"
   ]
  },
  {
   "cell_type": "code",
   "execution_count": 10,
   "id": "aa98fef8",
   "metadata": {},
   "outputs": [
    {
     "data": {
      "text/plain": [
       "(1048575, 11)"
      ]
     },
     "execution_count": 10,
     "metadata": {},
     "output_type": "execute_result"
    }
   ],
   "source": [
    "#dimensionality of our data set(rows and column)\n",
    "data.shape\n"
   ]
  },
  {
   "cell_type": "markdown",
   "id": "74f32682",
   "metadata": {},
   "source": [
    "### Data Manipulation"
   ]
  },
  {
   "cell_type": "code",
   "execution_count": 11,
   "id": "26eb771e",
   "metadata": {},
   "outputs": [],
   "source": [
    "#drop isflaggedfraud attribute because its quite similar to isfraud(target)\n",
    "data.drop(['isFlaggedFraud'],axis=1,inplace=True)"
   ]
  },
  {
   "cell_type": "code",
   "execution_count": 12,
   "id": "41bf726f",
   "metadata": {},
   "outputs": [
    {
     "data": {
      "text/html": [
       "<div>\n",
       "<style scoped>\n",
       "    .dataframe tbody tr th:only-of-type {\n",
       "        vertical-align: middle;\n",
       "    }\n",
       "\n",
       "    .dataframe tbody tr th {\n",
       "        vertical-align: top;\n",
       "    }\n",
       "\n",
       "    .dataframe thead th {\n",
       "        text-align: right;\n",
       "    }\n",
       "</style>\n",
       "<table border=\"1\" class=\"dataframe\">\n",
       "  <thead>\n",
       "    <tr style=\"text-align: right;\">\n",
       "      <th></th>\n",
       "      <th>step</th>\n",
       "      <th>type</th>\n",
       "      <th>amount</th>\n",
       "      <th>nameOrig</th>\n",
       "      <th>oldbalanceOrg</th>\n",
       "      <th>newbalanceOrig</th>\n",
       "      <th>nameDest</th>\n",
       "      <th>oldbalanceDest</th>\n",
       "      <th>newbalanceDest</th>\n",
       "      <th>isFraud</th>\n",
       "    </tr>\n",
       "  </thead>\n",
       "  <tbody>\n",
       "    <tr>\n",
       "      <th>0</th>\n",
       "      <td>1</td>\n",
       "      <td>PAYMENT</td>\n",
       "      <td>9839.64</td>\n",
       "      <td>C1231006815</td>\n",
       "      <td>170136.0</td>\n",
       "      <td>160296.36</td>\n",
       "      <td>M1979787155</td>\n",
       "      <td>0.0</td>\n",
       "      <td>0.0</td>\n",
       "      <td>0</td>\n",
       "    </tr>\n",
       "    <tr>\n",
       "      <th>1</th>\n",
       "      <td>1</td>\n",
       "      <td>PAYMENT</td>\n",
       "      <td>1864.28</td>\n",
       "      <td>C1666544295</td>\n",
       "      <td>21249.0</td>\n",
       "      <td>19384.72</td>\n",
       "      <td>M2044282225</td>\n",
       "      <td>0.0</td>\n",
       "      <td>0.0</td>\n",
       "      <td>0</td>\n",
       "    </tr>\n",
       "    <tr>\n",
       "      <th>2</th>\n",
       "      <td>1</td>\n",
       "      <td>TRANSFER</td>\n",
       "      <td>181.00</td>\n",
       "      <td>C1305486145</td>\n",
       "      <td>181.0</td>\n",
       "      <td>0.00</td>\n",
       "      <td>C553264065</td>\n",
       "      <td>0.0</td>\n",
       "      <td>0.0</td>\n",
       "      <td>1</td>\n",
       "    </tr>\n",
       "    <tr>\n",
       "      <th>3</th>\n",
       "      <td>1</td>\n",
       "      <td>CASH_OUT</td>\n",
       "      <td>181.00</td>\n",
       "      <td>C840083671</td>\n",
       "      <td>181.0</td>\n",
       "      <td>0.00</td>\n",
       "      <td>C38997010</td>\n",
       "      <td>21182.0</td>\n",
       "      <td>0.0</td>\n",
       "      <td>1</td>\n",
       "    </tr>\n",
       "    <tr>\n",
       "      <th>4</th>\n",
       "      <td>1</td>\n",
       "      <td>PAYMENT</td>\n",
       "      <td>11668.14</td>\n",
       "      <td>C2048537720</td>\n",
       "      <td>41554.0</td>\n",
       "      <td>29885.86</td>\n",
       "      <td>M1230701703</td>\n",
       "      <td>0.0</td>\n",
       "      <td>0.0</td>\n",
       "      <td>0</td>\n",
       "    </tr>\n",
       "  </tbody>\n",
       "</table>\n",
       "</div>"
      ],
      "text/plain": [
       "   step      type    amount     nameOrig  oldbalanceOrg  newbalanceOrig  \\\n",
       "0     1   PAYMENT   9839.64  C1231006815       170136.0       160296.36   \n",
       "1     1   PAYMENT   1864.28  C1666544295        21249.0        19384.72   \n",
       "2     1  TRANSFER    181.00  C1305486145          181.0            0.00   \n",
       "3     1  CASH_OUT    181.00   C840083671          181.0            0.00   \n",
       "4     1   PAYMENT  11668.14  C2048537720        41554.0        29885.86   \n",
       "\n",
       "      nameDest  oldbalanceDest  newbalanceDest  isFraud  \n",
       "0  M1979787155             0.0             0.0        0  \n",
       "1  M2044282225             0.0             0.0        0  \n",
       "2   C553264065             0.0             0.0        1  \n",
       "3    C38997010         21182.0             0.0        1  \n",
       "4  M1230701703             0.0             0.0        0  "
      ]
     },
     "execution_count": 12,
     "metadata": {},
     "output_type": "execute_result"
    }
   ],
   "source": [
    "#view \n",
    "data.head()"
   ]
  },
  {
   "cell_type": "code",
   "execution_count": 13,
   "id": "ad97b5b2",
   "metadata": {},
   "outputs": [
    {
     "data": {
      "text/plain": [
       "Index(['step', 'type', 'amount', 'nameOrig', 'oldbalanceOrg', 'newbalanceOrig',\n",
       "       'nameDest', 'oldbalanceDest', 'newbalanceDest', 'isFraud'],\n",
       "      dtype='object')"
      ]
     },
     "execution_count": 13,
     "metadata": {},
     "output_type": "execute_result"
    }
   ],
   "source": [
    "#view the column names\n",
    "data.columns"
   ]
  },
  {
   "cell_type": "code",
   "execution_count": 14,
   "id": "01c4c386",
   "metadata": {},
   "outputs": [],
   "source": [
    "#rename our column names for easy understanding\n",
    "data.columns=data.columns.str.replace('step','Time')\n",
    "data.columns=data.columns.str.replace('type','Transaction_Type')\n",
    "data.columns=data.columns.str.replace('amount','Amount')\n",
    "data.columns=data.columns.str.replace('nameOrig','Sender')\n",
    "data.columns=data.columns.str.replace('oldbalanceOrg','Sender_OldBalance')\n",
    "data.columns=data.columns.str.replace('newbalanceOrig','Sender_NewBalance')\n",
    "data.columns=data.columns.str.replace('nameDest','Receiver')\n",
    "data.columns=data.columns.str.replace('oldbalanceDest','Receiver_OldBalance')\n",
    "data.columns=data.columns.str.replace('newbalanceDest','Receiver_NewBalance')\n",
    "data.columns=data.columns.str.replace('isFraud','Fraud')"
   ]
  },
  {
   "cell_type": "code",
   "execution_count": 15,
   "id": "49b48f4b",
   "metadata": {},
   "outputs": [
    {
     "data": {
      "text/plain": [
       "Index(['Time', 'Transaction_Type', 'Amount', 'Sender', 'Sender_OldBalance',\n",
       "       'Sender_NewBalance', 'Receiver', 'Receiver_OldBalance',\n",
       "       'Receiver_NewBalance', 'Fraud'],\n",
       "      dtype='object')"
      ]
     },
     "execution_count": 15,
     "metadata": {},
     "output_type": "execute_result"
    }
   ],
   "source": [
    "#check out the renamed column names\n",
    "data.columns"
   ]
  },
  {
   "cell_type": "code",
   "execution_count": 16,
   "id": "e03add21",
   "metadata": {},
   "outputs": [
    {
     "data": {
      "text/html": [
       "<div>\n",
       "<style scoped>\n",
       "    .dataframe tbody tr th:only-of-type {\n",
       "        vertical-align: middle;\n",
       "    }\n",
       "\n",
       "    .dataframe tbody tr th {\n",
       "        vertical-align: top;\n",
       "    }\n",
       "\n",
       "    .dataframe thead th {\n",
       "        text-align: right;\n",
       "    }\n",
       "</style>\n",
       "<table border=\"1\" class=\"dataframe\">\n",
       "  <thead>\n",
       "    <tr style=\"text-align: right;\">\n",
       "      <th></th>\n",
       "      <th>Time</th>\n",
       "      <th>Transaction_Type</th>\n",
       "      <th>Amount</th>\n",
       "      <th>Sender</th>\n",
       "      <th>Sender_OldBalance</th>\n",
       "      <th>Sender_NewBalance</th>\n",
       "      <th>Receiver</th>\n",
       "      <th>Receiver_OldBalance</th>\n",
       "      <th>Receiver_NewBalance</th>\n",
       "      <th>Fraud</th>\n",
       "    </tr>\n",
       "  </thead>\n",
       "  <tbody>\n",
       "    <tr>\n",
       "      <th>0</th>\n",
       "      <td>1</td>\n",
       "      <td>PAYMENT</td>\n",
       "      <td>9839.64</td>\n",
       "      <td>C1231006815</td>\n",
       "      <td>170136.0</td>\n",
       "      <td>160296.36</td>\n",
       "      <td>M1979787155</td>\n",
       "      <td>0.0</td>\n",
       "      <td>0.0</td>\n",
       "      <td>0</td>\n",
       "    </tr>\n",
       "    <tr>\n",
       "      <th>1</th>\n",
       "      <td>1</td>\n",
       "      <td>PAYMENT</td>\n",
       "      <td>1864.28</td>\n",
       "      <td>C1666544295</td>\n",
       "      <td>21249.0</td>\n",
       "      <td>19384.72</td>\n",
       "      <td>M2044282225</td>\n",
       "      <td>0.0</td>\n",
       "      <td>0.0</td>\n",
       "      <td>0</td>\n",
       "    </tr>\n",
       "    <tr>\n",
       "      <th>2</th>\n",
       "      <td>1</td>\n",
       "      <td>TRANSFER</td>\n",
       "      <td>181.00</td>\n",
       "      <td>C1305486145</td>\n",
       "      <td>181.0</td>\n",
       "      <td>0.00</td>\n",
       "      <td>C553264065</td>\n",
       "      <td>0.0</td>\n",
       "      <td>0.0</td>\n",
       "      <td>1</td>\n",
       "    </tr>\n",
       "    <tr>\n",
       "      <th>3</th>\n",
       "      <td>1</td>\n",
       "      <td>CASH_OUT</td>\n",
       "      <td>181.00</td>\n",
       "      <td>C840083671</td>\n",
       "      <td>181.0</td>\n",
       "      <td>0.00</td>\n",
       "      <td>C38997010</td>\n",
       "      <td>21182.0</td>\n",
       "      <td>0.0</td>\n",
       "      <td>1</td>\n",
       "    </tr>\n",
       "    <tr>\n",
       "      <th>4</th>\n",
       "      <td>1</td>\n",
       "      <td>PAYMENT</td>\n",
       "      <td>11668.14</td>\n",
       "      <td>C2048537720</td>\n",
       "      <td>41554.0</td>\n",
       "      <td>29885.86</td>\n",
       "      <td>M1230701703</td>\n",
       "      <td>0.0</td>\n",
       "      <td>0.0</td>\n",
       "      <td>0</td>\n",
       "    </tr>\n",
       "  </tbody>\n",
       "</table>\n",
       "</div>"
      ],
      "text/plain": [
       "   Time Transaction_Type    Amount       Sender  Sender_OldBalance  \\\n",
       "0     1          PAYMENT   9839.64  C1231006815           170136.0   \n",
       "1     1          PAYMENT   1864.28  C1666544295            21249.0   \n",
       "2     1         TRANSFER    181.00  C1305486145              181.0   \n",
       "3     1         CASH_OUT    181.00   C840083671              181.0   \n",
       "4     1          PAYMENT  11668.14  C2048537720            41554.0   \n",
       "\n",
       "   Sender_NewBalance     Receiver  Receiver_OldBalance  Receiver_NewBalance  \\\n",
       "0          160296.36  M1979787155                  0.0                  0.0   \n",
       "1           19384.72  M2044282225                  0.0                  0.0   \n",
       "2               0.00   C553264065                  0.0                  0.0   \n",
       "3               0.00    C38997010              21182.0                  0.0   \n",
       "4           29885.86  M1230701703                  0.0                  0.0   \n",
       "\n",
       "   Fraud  \n",
       "0      0  \n",
       "1      0  \n",
       "2      1  \n",
       "3      1  \n",
       "4      0  "
      ]
     },
     "execution_count": 16,
     "metadata": {},
     "output_type": "execute_result"
    }
   ],
   "source": [
    "#view\n",
    "data.head()"
   ]
  },
  {
   "cell_type": "markdown",
   "id": "1518aee1",
   "metadata": {},
   "source": [
    "### Exploratory Data Analysis\n"
   ]
  },
  {
   "cell_type": "code",
   "execution_count": 17,
   "id": "60900151",
   "metadata": {},
   "outputs": [
    {
     "data": {
      "text/plain": [
       "Text(0.5, 1.0, 'Missing values')"
      ]
     },
     "execution_count": 17,
     "metadata": {},
     "output_type": "execute_result"
    },
    {
     "data": {
      "image/png": "[encoded data removed]",
      "text/plain": [
       "<Figure size 720x360 with 2 Axes>"
      ]
     },
     "metadata": {
      "needs_background": "light"
     },
     "output_type": "display_data"
    }
   ],
   "source": [
    "#let's visualize missing data\n",
    "plt.figure(figsize=(10,5))\n",
    "sns.heatmap(data.isna(),cbar=True,cmap='Blues')\n",
    "plt.title('Missing values')"
   ]
  },
  {
   "cell_type": "markdown",
   "id": "51266b43",
   "metadata": {},
   "source": [
    "There are no missing data in our data set"
   ]
  },
  {
   "cell_type": "code",
   "execution_count": 18,
   "id": "cc5921e4",
   "metadata": {},
   "outputs": [
    {
     "data": {
      "text/plain": [
       "<AxesSubplot:xlabel='Time', ylabel='Density'>"
      ]
     },
     "execution_count": 18,
     "metadata": {},
     "output_type": "execute_result"
    },
    {
     "data": {
      "image/png": "[encoded data removed]",
      "text/plain": [
       "<Figure size 648x576 with 2 Axes>"
      ]
     },
     "metadata": {
      "needs_background": "light"
     },
     "output_type": "display_data"
    }
   ],
   "source": [
    "#Time distribution using Histogram and Boxplot\n",
    "fig,axes=plt.subplots(1,2,figsize=(9,8))\n",
    "fig.suptitle('Time distribution', fontsize=14,fontweight='bold')\n",
    "sns.boxplot(x='Time',data=data,ax=axes[0])\n",
    "sns.distplot(data['Time'],bins=50,ax=axes[1])\n"
   ]
  },
  {
   "cell_type": "markdown",
   "id": "3bf24059",
   "metadata": {},
   "source": [
    "- we can see outliers better  using box plot, from 80 and above shows outliers\n",
    "- From histogram, time column is right skewed, meaning that mean is greater than median,since mean and median are not equal,they are outliers in our Time.\n",
    "- Time was mostly distributed among 20 to 40"
   ]
  },
  {
   "cell_type": "code",
   "execution_count": 19,
   "id": "f1403b26",
   "metadata": {},
   "outputs": [
    {
     "data": {
      "text/plain": [
       "array(['PAYMENT', 'TRANSFER', 'CASH_OUT', 'DEBIT', 'CASH_IN'],\n",
       "      dtype=object)"
      ]
     },
     "execution_count": 19,
     "metadata": {},
     "output_type": "execute_result"
    }
   ],
   "source": [
    "#view transaction types\n",
    "data.Transaction_Type.unique()"
   ]
  },
  {
   "cell_type": "code",
   "execution_count": 20,
   "id": "4df1acf1",
   "metadata": {},
   "outputs": [
    {
     "data": {
      "text/plain": [
       "Text(0.5, 1.0, 'Transaction Type Frequency')"
      ]
     },
     "execution_count": 20,
     "metadata": {},
     "output_type": "execute_result"
    },
    {
     "data": {
      "image/png": "[encoded data removed]",
      "text/plain": [
       "<Figure size 432x288 with 1 Axes>"
      ]
     },
     "metadata": {
      "needs_background": "light"
     },
     "output_type": "display_data"
    }
   ],
   "source": [
    "#check transaction type thatoccured frequently\n",
    "sns.countplot(x='Transaction_Type',data=data)\n",
    "plt.title('Transaction Type Frequency')"
   ]
  },
  {
   "cell_type": "markdown",
   "id": "b3414bbc",
   "metadata": {},
   "source": [
    "- cash_out Transaction Type occured most"
   ]
  },
  {
   "cell_type": "code",
   "execution_count": 21,
   "id": "9c2d3738",
   "metadata": {},
   "outputs": [
    {
     "data": {
      "text/plain": [
       "array([<AxesSubplot:ylabel='Amount'>], dtype=object)"
      ]
     },
     "execution_count": 21,
     "metadata": {},
     "output_type": "execute_result"
    },
    {
     "data": {
      "image/png": "[encoded data removed]",
      "text/plain": [
       "<Figure size 648x576 with 1 Axes>"
      ]
     },
     "metadata": {},
     "output_type": "display_data"
    }
   ],
   "source": [
    "#let's view the average transaction type that was used based on amount by percentage\n",
    "data.groupby('Transaction_Type')[['Amount']].mean().plot(kind='pie',figsize=(9,8),\n",
    "subplots=True,legend=False,autopct='%.1f')"
   ]
  },
  {
   "cell_type": "markdown",
   "id": "5287e2d8",
   "metadata": {},
   "source": [
    "- By average,63% transactions were made through transfers\n",
    "- In terms of reocurring transaction, Transfer transaction type occured 63% of the time\n",
    "- In terms of total transaction,cash_out transaction type occured the most numner of times.\n"
   ]
  },
  {
   "cell_type": "code",
   "execution_count": 22,
   "id": "6c89e50f",
   "metadata": {},
   "outputs": [
    {
     "data": {
      "text/plain": [
       "<seaborn.axisgrid.FacetGrid at 0x1ac9a72ef10>"
      ]
     },
     "execution_count": 22,
     "metadata": {},
     "output_type": "execute_result"
    },
    {
     "data": {
      "image/png": "[encoded data removed]",
      "text/plain": [
       "<Figure size 402.375x360 with 1 Axes>"
      ]
     },
     "metadata": {
      "needs_background": "light"
     },
     "output_type": "display_data"
    }
   ],
   "source": [
    "#transaction types that showed chances of fraud\n",
    "sns.catplot(data=data,x='Transaction_Type',y='Amount',hue='Fraud',kind='box')"
   ]
  },
  {
   "cell_type": "markdown",
   "id": "59b44d61",
   "metadata": {},
   "source": [
    "- Transfer and Cash_out Transaction Type showed chances of fraudlent transactions"
   ]
  },
  {
   "cell_type": "code",
   "execution_count": 23,
   "id": "9f9b6ee9",
   "metadata": {},
   "outputs": [
    {
     "data": {
      "text/html": [
       "<div>\n",
       "<style scoped>\n",
       "    .dataframe tbody tr th:only-of-type {\n",
       "        vertical-align: middle;\n",
       "    }\n",
       "\n",
       "    .dataframe tbody tr th {\n",
       "        vertical-align: top;\n",
       "    }\n",
       "\n",
       "    .dataframe thead th {\n",
       "        text-align: right;\n",
       "    }\n",
       "</style>\n",
       "<table border=\"1\" class=\"dataframe\">\n",
       "  <thead>\n",
       "    <tr style=\"text-align: right;\">\n",
       "      <th></th>\n",
       "      <th></th>\n",
       "      <th>Amount</th>\n",
       "    </tr>\n",
       "    <tr>\n",
       "      <th>Sender</th>\n",
       "      <th>Transaction_Type</th>\n",
       "      <th></th>\n",
       "    </tr>\n",
       "  </thead>\n",
       "  <tbody>\n",
       "    <tr>\n",
       "      <th>C1237313447</th>\n",
       "      <th>TRANSFER</th>\n",
       "      <td>10000000.00</td>\n",
       "    </tr>\n",
       "    <tr>\n",
       "      <th>C2050703310</th>\n",
       "      <th>CASH_OUT</th>\n",
       "      <td>10000000.00</td>\n",
       "    </tr>\n",
       "    <tr>\n",
       "      <th>C824646662</th>\n",
       "      <th>CASH_OUT</th>\n",
       "      <td>10000000.00</td>\n",
       "    </tr>\n",
       "    <tr>\n",
       "      <th>C1079335762</th>\n",
       "      <th>CASH_OUT</th>\n",
       "      <td>10000000.00</td>\n",
       "    </tr>\n",
       "    <tr>\n",
       "      <th>C351297720</th>\n",
       "      <th>CASH_OUT</th>\n",
       "      <td>10000000.00</td>\n",
       "    </tr>\n",
       "    <tr>\n",
       "      <th>...</th>\n",
       "      <th>...</th>\n",
       "      <td>...</td>\n",
       "    </tr>\n",
       "    <tr>\n",
       "      <th>C402638409</th>\n",
       "      <th>PAYMENT</th>\n",
       "      <td>0.30</td>\n",
       "    </tr>\n",
       "    <tr>\n",
       "      <th>C2021685600</th>\n",
       "      <th>PAYMENT</th>\n",
       "      <td>0.26</td>\n",
       "    </tr>\n",
       "    <tr>\n",
       "      <th>C417208094</th>\n",
       "      <th>PAYMENT</th>\n",
       "      <td>0.20</td>\n",
       "    </tr>\n",
       "    <tr>\n",
       "      <th>C570870355</th>\n",
       "      <th>PAYMENT</th>\n",
       "      <td>0.14</td>\n",
       "    </tr>\n",
       "    <tr>\n",
       "      <th>C938188576</th>\n",
       "      <th>PAYMENT</th>\n",
       "      <td>0.10</td>\n",
       "    </tr>\n",
       "  </tbody>\n",
       "</table>\n",
       "<p>1048505 rows × 1 columns</p>\n",
       "</div>"
      ],
      "text/plain": [
       "                                   Amount\n",
       "Sender      Transaction_Type             \n",
       "C1237313447 TRANSFER          10000000.00\n",
       "C2050703310 CASH_OUT          10000000.00\n",
       "C824646662  CASH_OUT          10000000.00\n",
       "C1079335762 CASH_OUT          10000000.00\n",
       "C351297720  CASH_OUT          10000000.00\n",
       "...                                   ...\n",
       "C402638409  PAYMENT                  0.30\n",
       "C2021685600 PAYMENT                  0.26\n",
       "C417208094  PAYMENT                  0.20\n",
       "C570870355  PAYMENT                  0.14\n",
       "C938188576  PAYMENT                  0.10\n",
       "\n",
       "[1048505 rows x 1 columns]"
      ]
     },
     "execution_count": 23,
     "metadata": {},
     "output_type": "execute_result"
    }
   ],
   "source": [
    "#view the sender with the highest amount  of transaction with type of transaction\n",
    "data.groupby(['Sender','Transaction_Type'])[['Amount']].max().sort_values(by='Amount', ascending=False)"
   ]
  },
  {
   "cell_type": "code",
   "execution_count": 24,
   "id": "b0b3abbf",
   "metadata": {},
   "outputs": [
    {
     "data": {
      "text/html": [
       "<div>\n",
       "<style scoped>\n",
       "    .dataframe tbody tr th:only-of-type {\n",
       "        vertical-align: middle;\n",
       "    }\n",
       "\n",
       "    .dataframe tbody tr th {\n",
       "        vertical-align: top;\n",
       "    }\n",
       "\n",
       "    .dataframe thead th {\n",
       "        text-align: right;\n",
       "    }\n",
       "</style>\n",
       "<table border=\"1\" class=\"dataframe\">\n",
       "  <thead>\n",
       "    <tr style=\"text-align: right;\">\n",
       "      <th></th>\n",
       "      <th>Time</th>\n",
       "      <th>Amount</th>\n",
       "      <th>Sender_OldBalance</th>\n",
       "      <th>Sender_NewBalance</th>\n",
       "      <th>Receiver_OldBalance</th>\n",
       "      <th>Receiver_NewBalance</th>\n",
       "      <th>Fraud</th>\n",
       "    </tr>\n",
       "  </thead>\n",
       "  <tbody>\n",
       "    <tr>\n",
       "      <th>Time</th>\n",
       "      <td>1.000000</td>\n",
       "      <td>-0.025996</td>\n",
       "      <td>-0.006780</td>\n",
       "      <td>-0.007180</td>\n",
       "      <td>-0.002251</td>\n",
       "      <td>-0.019503</td>\n",
       "      <td>0.045030</td>\n",
       "    </tr>\n",
       "    <tr>\n",
       "      <th>Amount</th>\n",
       "      <td>-0.025996</td>\n",
       "      <td>1.000000</td>\n",
       "      <td>0.004864</td>\n",
       "      <td>-0.001133</td>\n",
       "      <td>0.215558</td>\n",
       "      <td>0.311936</td>\n",
       "      <td>0.128862</td>\n",
       "    </tr>\n",
       "    <tr>\n",
       "      <th>Sender_OldBalance</th>\n",
       "      <td>-0.006780</td>\n",
       "      <td>0.004864</td>\n",
       "      <td>1.000000</td>\n",
       "      <td>0.999047</td>\n",
       "      <td>0.093305</td>\n",
       "      <td>0.064049</td>\n",
       "      <td>0.003829</td>\n",
       "    </tr>\n",
       "    <tr>\n",
       "      <th>Sender_NewBalance</th>\n",
       "      <td>-0.007180</td>\n",
       "      <td>-0.001133</td>\n",
       "      <td>0.999047</td>\n",
       "      <td>1.000000</td>\n",
       "      <td>0.095182</td>\n",
       "      <td>0.063725</td>\n",
       "      <td>-0.009438</td>\n",
       "    </tr>\n",
       "    <tr>\n",
       "      <th>Receiver_OldBalance</th>\n",
       "      <td>-0.002251</td>\n",
       "      <td>0.215558</td>\n",
       "      <td>0.093305</td>\n",
       "      <td>0.095182</td>\n",
       "      <td>1.000000</td>\n",
       "      <td>0.978403</td>\n",
       "      <td>-0.007552</td>\n",
       "    </tr>\n",
       "    <tr>\n",
       "      <th>Receiver_NewBalance</th>\n",
       "      <td>-0.019503</td>\n",
       "      <td>0.311936</td>\n",
       "      <td>0.064049</td>\n",
       "      <td>0.063725</td>\n",
       "      <td>0.978403</td>\n",
       "      <td>1.000000</td>\n",
       "      <td>-0.000495</td>\n",
       "    </tr>\n",
       "    <tr>\n",
       "      <th>Fraud</th>\n",
       "      <td>0.045030</td>\n",
       "      <td>0.128862</td>\n",
       "      <td>0.003829</td>\n",
       "      <td>-0.009438</td>\n",
       "      <td>-0.007552</td>\n",
       "      <td>-0.000495</td>\n",
       "      <td>1.000000</td>\n",
       "    </tr>\n",
       "  </tbody>\n",
       "</table>\n",
       "</div>"
      ],
      "text/plain": [
       "                         Time    Amount  Sender_OldBalance  Sender_NewBalance  \\\n",
       "Time                 1.000000 -0.025996          -0.006780          -0.007180   \n",
       "Amount              -0.025996  1.000000           0.004864          -0.001133   \n",
       "Sender_OldBalance   -0.006780  0.004864           1.000000           0.999047   \n",
       "Sender_NewBalance   -0.007180 -0.001133           0.999047           1.000000   \n",
       "Receiver_OldBalance -0.002251  0.215558           0.093305           0.095182   \n",
       "Receiver_NewBalance -0.019503  0.311936           0.064049           0.063725   \n",
       "Fraud                0.045030  0.128862           0.003829          -0.009438   \n",
       "\n",
       "                     Receiver_OldBalance  Receiver_NewBalance     Fraud  \n",
       "Time                           -0.002251            -0.019503  0.045030  \n",
       "Amount                          0.215558             0.311936  0.128862  \n",
       "Sender_OldBalance               0.093305             0.064049  0.003829  \n",
       "Sender_NewBalance               0.095182             0.063725 -0.009438  \n",
       "Receiver_OldBalance             1.000000             0.978403 -0.007552  \n",
       "Receiver_NewBalance             0.978403             1.000000 -0.000495  \n",
       "Fraud                          -0.007552            -0.000495  1.000000  "
      ]
     },
     "execution_count": 24,
     "metadata": {},
     "output_type": "execute_result"
    }
   ],
   "source": [
    "#check the correlation between our features\n",
    "data.corr()"
   ]
  },
  {
   "cell_type": "code",
   "execution_count": 25,
   "id": "a1695530",
   "metadata": {},
   "outputs": [
    {
     "data": {
      "text/plain": [
       "<AxesSubplot:>"
      ]
     },
     "execution_count": 25,
     "metadata": {},
     "output_type": "execute_result"
    },
    {
     "data": {
      "image/png": "[encoded data removed]",
      "text/plain": [
       "<Figure size 576x432 with 2 Axes>"
      ]
     },
     "metadata": {
      "needs_background": "light"
     },
     "output_type": "display_data"
    }
   ],
   "source": [
    "#visualize correlation\n",
    "plt.figure(figsize=(8,6))\n",
    "sns.heatmap(data.corr(),annot=True)"
   ]
  },
  {
   "cell_type": "markdown",
   "id": "31eb1f11",
   "metadata": {},
   "source": [
    "- There's a positive correlation between receiver_newbalance and receiver_oldbalance.\n",
    "- The correlation between sender_newbalanceand sender_oldbalance is 1(positive correlation).\n",
    "- zero correlation between fraud and time of transaction."
   ]
  },
  {
   "cell_type": "code",
   "execution_count": 26,
   "id": "45850e2a",
   "metadata": {},
   "outputs": [
    {
     "data": {
      "text/html": [
       "<div>\n",
       "<style scoped>\n",
       "    .dataframe tbody tr th:only-of-type {\n",
       "        vertical-align: middle;\n",
       "    }\n",
       "\n",
       "    .dataframe tbody tr th {\n",
       "        vertical-align: top;\n",
       "    }\n",
       "\n",
       "    .dataframe thead th {\n",
       "        text-align: right;\n",
       "    }\n",
       "</style>\n",
       "<table border=\"1\" class=\"dataframe\">\n",
       "  <thead>\n",
       "    <tr style=\"text-align: right;\">\n",
       "      <th></th>\n",
       "      <th>Time</th>\n",
       "      <th>Amount</th>\n",
       "      <th>Sender_OldBalance</th>\n",
       "      <th>Sender_NewBalance</th>\n",
       "      <th>Receiver_OldBalance</th>\n",
       "      <th>Receiver_NewBalance</th>\n",
       "      <th>Fraud</th>\n",
       "    </tr>\n",
       "  </thead>\n",
       "  <tbody>\n",
       "    <tr>\n",
       "      <th>Time</th>\n",
       "      <td>244.085992</td>\n",
       "      <td>-1.076017e+05</td>\n",
       "      <td>-3.147768e+05</td>\n",
       "      <td>-3.374480e+05</td>\n",
       "      <td>-8.077975e+04</td>\n",
       "      <td>-7.363214e+05</td>\n",
       "      <td>0.023204</td>\n",
       "    </tr>\n",
       "    <tr>\n",
       "      <th>Amount</th>\n",
       "      <td>-107601.743514</td>\n",
       "      <td>7.019370e+10</td>\n",
       "      <td>3.829337e+09</td>\n",
       "      <td>-9.030635e+08</td>\n",
       "      <td>1.311692e+11</td>\n",
       "      <td>1.997184e+11</td>\n",
       "      <td>1126.086051</td>\n",
       "    </tr>\n",
       "    <tr>\n",
       "      <th>Sender_OldBalance</th>\n",
       "      <td>-314776.792069</td>\n",
       "      <td>3.829337e+09</td>\n",
       "      <td>8.831301e+12</td>\n",
       "      <td>8.931316e+12</td>\n",
       "      <td>6.368494e+11</td>\n",
       "      <td>4.599677e+11</td>\n",
       "      <td>375.332275</td>\n",
       "    </tr>\n",
       "    <tr>\n",
       "      <th>Sender_NewBalance</th>\n",
       "      <td>-337448.034743</td>\n",
       "      <td>-9.030635e+08</td>\n",
       "      <td>8.931316e+12</td>\n",
       "      <td>9.049696e+12</td>\n",
       "      <td>6.576475e+11</td>\n",
       "      <td>4.632665e+11</td>\n",
       "      <td>-936.476917</td>\n",
       "    </tr>\n",
       "    <tr>\n",
       "      <th>Receiver_OldBalance</th>\n",
       "      <td>-80779.752268</td>\n",
       "      <td>1.311692e+11</td>\n",
       "      <td>6.368494e+11</td>\n",
       "      <td>6.576475e+11</td>\n",
       "      <td>5.275200e+12</td>\n",
       "      <td>5.430512e+12</td>\n",
       "      <td>-572.096640</td>\n",
       "    </tr>\n",
       "    <tr>\n",
       "      <th>Receiver_NewBalance</th>\n",
       "      <td>-736321.384892</td>\n",
       "      <td>1.997184e+11</td>\n",
       "      <td>4.599677e+11</td>\n",
       "      <td>4.632665e+11</td>\n",
       "      <td>5.430512e+12</td>\n",
       "      <td>5.839922e+12</td>\n",
       "      <td>-39.487974</td>\n",
       "    </tr>\n",
       "    <tr>\n",
       "      <th>Fraud</th>\n",
       "      <td>0.023204</td>\n",
       "      <td>1.126086e+03</td>\n",
       "      <td>3.753323e+02</td>\n",
       "      <td>-9.364769e+02</td>\n",
       "      <td>-5.720966e+02</td>\n",
       "      <td>-3.948797e+01</td>\n",
       "      <td>0.001088</td>\n",
       "    </tr>\n",
       "  </tbody>\n",
       "</table>\n",
       "</div>"
      ],
      "text/plain": [
       "                              Time        Amount  Sender_OldBalance  \\\n",
       "Time                    244.085992 -1.076017e+05      -3.147768e+05   \n",
       "Amount              -107601.743514  7.019370e+10       3.829337e+09   \n",
       "Sender_OldBalance   -314776.792069  3.829337e+09       8.831301e+12   \n",
       "Sender_NewBalance   -337448.034743 -9.030635e+08       8.931316e+12   \n",
       "Receiver_OldBalance  -80779.752268  1.311692e+11       6.368494e+11   \n",
       "Receiver_NewBalance -736321.384892  1.997184e+11       4.599677e+11   \n",
       "Fraud                     0.023204  1.126086e+03       3.753323e+02   \n",
       "\n",
       "                     Sender_NewBalance  Receiver_OldBalance  \\\n",
       "Time                     -3.374480e+05        -8.077975e+04   \n",
       "Amount                   -9.030635e+08         1.311692e+11   \n",
       "Sender_OldBalance         8.931316e+12         6.368494e+11   \n",
       "Sender_NewBalance         9.049696e+12         6.576475e+11   \n",
       "Receiver_OldBalance       6.576475e+11         5.275200e+12   \n",
       "Receiver_NewBalance       4.632665e+11         5.430512e+12   \n",
       "Fraud                    -9.364769e+02        -5.720966e+02   \n",
       "\n",
       "                     Receiver_NewBalance        Fraud  \n",
       "Time                       -7.363214e+05     0.023204  \n",
       "Amount                      1.997184e+11  1126.086051  \n",
       "Sender_OldBalance           4.599677e+11   375.332275  \n",
       "Sender_NewBalance           4.632665e+11  -936.476917  \n",
       "Receiver_OldBalance         5.430512e+12  -572.096640  \n",
       "Receiver_NewBalance         5.839922e+12   -39.487974  \n",
       "Fraud                      -3.948797e+01     0.001088  "
      ]
     },
     "execution_count": 26,
     "metadata": {},
     "output_type": "execute_result"
    }
   ],
   "source": [
    "#lets check for covariance\n",
    "data.cov()"
   ]
  },
  {
   "cell_type": "markdown",
   "id": "8b8b4ba7",
   "metadata": {},
   "source": [
    "- The values along the diagonals of the output are the variances of each attributes.\n",
    "- othert values represent the covariance between each attributes.\n",
    "- The positive numbers shows that there's a positive covariance between the two attributes(two attributes tends to increase or decrease together)\n",
    "- The negative numbers shows that there's a negative covariance between the two variables ( as one variable increases the other variable decreases , vice versa)"
   ]
  },
  {
   "cell_type": "code",
   "execution_count": 27,
   "id": "c4efda54",
   "metadata": {},
   "outputs": [
    {
     "data": {
      "text/plain": [
       "<AxesSubplot:>"
      ]
     },
     "execution_count": 27,
     "metadata": {},
     "output_type": "execute_result"
    },
    {
     "data": {
      "image/png": "[encoded data removed]",
      "text/plain": [
       "<Figure size 720x648 with 2 Axes>"
      ]
     },
     "metadata": {
      "needs_background": "light"
     },
     "output_type": "display_data"
    }
   ],
   "source": [
    "#visualizing Covariance\n",
    "plt.figure(figsize=(10,9))\n",
    "sns.heatmap(data.cov(),annot=True,fmt='.2f')"
   ]
  },
  {
   "cell_type": "code",
   "execution_count": 28,
   "id": "41af1c2e",
   "metadata": {},
   "outputs": [
    {
     "name": "stdout",
     "output_type": "stream",
     "text": [
      "Total number of fraud payemnt: 1142\n",
      "Total number of non-fraud payment: 1047433\n"
     ]
    },
    {
     "data": {
      "image/png": "[encoded data removed]",
      "text/plain": [
       "<Figure size 576x504 with 1 Axes>"
      ]
     },
     "metadata": {
      "needs_background": "light"
     },
     "output_type": "display_data"
    }
   ],
   "source": [
    "#fraud payments and non-fraud payments\n",
    "plt.figure(figsize=(8,7))\n",
    "f1=data.loc[data.Fraud==1]\n",
    "f0=data.loc[data.Fraud==0]\n",
    "sns.countplot(x='Fraud',data=data)\n",
    "plt.title(\"Counts on Fraud\",fontsize=14,fontweight='bold')\n",
    "print('Total number of fraud payemnt:',f1.Fraud.count())\n",
    "print('Total number of non-fraud payment:',f0.Fraud.count())"
   ]
  },
  {
   "cell_type": "markdown",
   "id": "0ca9e7d4",
   "metadata": {},
   "source": [
    "- From the number of fraudlent transactions, we can tell our data is an unbalanced data set.\n",
    "- using normalize to balance our counts below, 99% of client's transactions wasn't fraud , the remaining 1% were fraudulent transactions."
   ]
  },
  {
   "cell_type": "code",
   "execution_count": 29,
   "id": "501f6a1f",
   "metadata": {},
   "outputs": [
    {
     "data": {
      "text/plain": [
       "0    99.89109\n",
       "1     0.10891\n",
       "Name: Fraud, dtype: float64"
      ]
     },
     "execution_count": 29,
     "metadata": {},
     "output_type": "execute_result"
    }
   ],
   "source": [
    "#use normalize to balance \n",
    "data.Fraud.value_counts(normalize=True)*100"
   ]
  },
  {
   "cell_type": "markdown",
   "id": "0d6fc8e0",
   "metadata": {},
   "source": [
    "### Feature Engineering(One Hot Encoding)\n",
    "#### One Hot Encoding - converting categorical variables in a way machine can understand(0 and 1) "
   ]
  },
  {
   "cell_type": "code",
   "execution_count": 30,
   "id": "3839c37e",
   "metadata": {},
   "outputs": [
    {
     "data": {
      "text/html": [
       "<div>\n",
       "<style scoped>\n",
       "    .dataframe tbody tr th:only-of-type {\n",
       "        vertical-align: middle;\n",
       "    }\n",
       "\n",
       "    .dataframe tbody tr th {\n",
       "        vertical-align: top;\n",
       "    }\n",
       "\n",
       "    .dataframe thead th {\n",
       "        text-align: right;\n",
       "    }\n",
       "</style>\n",
       "<table border=\"1\" class=\"dataframe\">\n",
       "  <thead>\n",
       "    <tr style=\"text-align: right;\">\n",
       "      <th></th>\n",
       "      <th>Time</th>\n",
       "      <th>Transaction_Type</th>\n",
       "      <th>Amount</th>\n",
       "      <th>Sender</th>\n",
       "      <th>Sender_OldBalance</th>\n",
       "      <th>Sender_NewBalance</th>\n",
       "      <th>Receiver</th>\n",
       "      <th>Receiver_OldBalance</th>\n",
       "      <th>Receiver_NewBalance</th>\n",
       "      <th>Fraud</th>\n",
       "    </tr>\n",
       "  </thead>\n",
       "  <tbody>\n",
       "    <tr>\n",
       "      <th>0</th>\n",
       "      <td>1</td>\n",
       "      <td>PAYMENT</td>\n",
       "      <td>9839.64</td>\n",
       "      <td>C1231006815</td>\n",
       "      <td>170136.0</td>\n",
       "      <td>160296.36</td>\n",
       "      <td>M1979787155</td>\n",
       "      <td>0.0</td>\n",
       "      <td>0.0</td>\n",
       "      <td>0</td>\n",
       "    </tr>\n",
       "    <tr>\n",
       "      <th>1</th>\n",
       "      <td>1</td>\n",
       "      <td>PAYMENT</td>\n",
       "      <td>1864.28</td>\n",
       "      <td>C1666544295</td>\n",
       "      <td>21249.0</td>\n",
       "      <td>19384.72</td>\n",
       "      <td>M2044282225</td>\n",
       "      <td>0.0</td>\n",
       "      <td>0.0</td>\n",
       "      <td>0</td>\n",
       "    </tr>\n",
       "    <tr>\n",
       "      <th>2</th>\n",
       "      <td>1</td>\n",
       "      <td>TRANSFER</td>\n",
       "      <td>181.00</td>\n",
       "      <td>C1305486145</td>\n",
       "      <td>181.0</td>\n",
       "      <td>0.00</td>\n",
       "      <td>C553264065</td>\n",
       "      <td>0.0</td>\n",
       "      <td>0.0</td>\n",
       "      <td>1</td>\n",
       "    </tr>\n",
       "    <tr>\n",
       "      <th>3</th>\n",
       "      <td>1</td>\n",
       "      <td>CASH_OUT</td>\n",
       "      <td>181.00</td>\n",
       "      <td>C840083671</td>\n",
       "      <td>181.0</td>\n",
       "      <td>0.00</td>\n",
       "      <td>C38997010</td>\n",
       "      <td>21182.0</td>\n",
       "      <td>0.0</td>\n",
       "      <td>1</td>\n",
       "    </tr>\n",
       "    <tr>\n",
       "      <th>4</th>\n",
       "      <td>1</td>\n",
       "      <td>PAYMENT</td>\n",
       "      <td>11668.14</td>\n",
       "      <td>C2048537720</td>\n",
       "      <td>41554.0</td>\n",
       "      <td>29885.86</td>\n",
       "      <td>M1230701703</td>\n",
       "      <td>0.0</td>\n",
       "      <td>0.0</td>\n",
       "      <td>0</td>\n",
       "    </tr>\n",
       "  </tbody>\n",
       "</table>\n",
       "</div>"
      ],
      "text/plain": [
       "   Time Transaction_Type    Amount       Sender  Sender_OldBalance  \\\n",
       "0     1          PAYMENT   9839.64  C1231006815           170136.0   \n",
       "1     1          PAYMENT   1864.28  C1666544295            21249.0   \n",
       "2     1         TRANSFER    181.00  C1305486145              181.0   \n",
       "3     1         CASH_OUT    181.00   C840083671              181.0   \n",
       "4     1          PAYMENT  11668.14  C2048537720            41554.0   \n",
       "\n",
       "   Sender_NewBalance     Receiver  Receiver_OldBalance  Receiver_NewBalance  \\\n",
       "0          160296.36  M1979787155                  0.0                  0.0   \n",
       "1           19384.72  M2044282225                  0.0                  0.0   \n",
       "2               0.00   C553264065                  0.0                  0.0   \n",
       "3               0.00    C38997010              21182.0                  0.0   \n",
       "4           29885.86  M1230701703                  0.0                  0.0   \n",
       "\n",
       "   Fraud  \n",
       "0      0  \n",
       "1      0  \n",
       "2      1  \n",
       "3      1  \n",
       "4      0  "
      ]
     },
     "execution_count": 30,
     "metadata": {},
     "output_type": "execute_result"
    }
   ],
   "source": [
    "#make a copy of our dataset\n",
    "df=data.copy()\n",
    "#view\n",
    "df.head()"
   ]
  },
  {
   "cell_type": "code",
   "execution_count": 31,
   "id": "f1679484",
   "metadata": {},
   "outputs": [],
   "source": [
    "#select categorical variables\n",
    "cat=['Transaction_Type']"
   ]
  },
  {
   "cell_type": "code",
   "execution_count": 32,
   "id": "f5b16704",
   "metadata": {},
   "outputs": [
    {
     "data": {
      "text/html": [
       "<div>\n",
       "<style scoped>\n",
       "    .dataframe tbody tr th:only-of-type {\n",
       "        vertical-align: middle;\n",
       "    }\n",
       "\n",
       "    .dataframe tbody tr th {\n",
       "        vertical-align: top;\n",
       "    }\n",
       "\n",
       "    .dataframe thead th {\n",
       "        text-align: right;\n",
       "    }\n",
       "</style>\n",
       "<table border=\"1\" class=\"dataframe\">\n",
       "  <thead>\n",
       "    <tr style=\"text-align: right;\">\n",
       "      <th></th>\n",
       "      <th>Transaction_Type</th>\n",
       "    </tr>\n",
       "  </thead>\n",
       "  <tbody>\n",
       "    <tr>\n",
       "      <th>0</th>\n",
       "      <td>PAYMENT</td>\n",
       "    </tr>\n",
       "    <tr>\n",
       "      <th>1</th>\n",
       "      <td>PAYMENT</td>\n",
       "    </tr>\n",
       "    <tr>\n",
       "      <th>2</th>\n",
       "      <td>TRANSFER</td>\n",
       "    </tr>\n",
       "    <tr>\n",
       "      <th>3</th>\n",
       "      <td>CASH_OUT</td>\n",
       "    </tr>\n",
       "    <tr>\n",
       "      <th>4</th>\n",
       "      <td>PAYMENT</td>\n",
       "    </tr>\n",
       "    <tr>\n",
       "      <th>...</th>\n",
       "      <td>...</td>\n",
       "    </tr>\n",
       "    <tr>\n",
       "      <th>1048570</th>\n",
       "      <td>CASH_OUT</td>\n",
       "    </tr>\n",
       "    <tr>\n",
       "      <th>1048571</th>\n",
       "      <td>PAYMENT</td>\n",
       "    </tr>\n",
       "    <tr>\n",
       "      <th>1048572</th>\n",
       "      <td>PAYMENT</td>\n",
       "    </tr>\n",
       "    <tr>\n",
       "      <th>1048573</th>\n",
       "      <td>PAYMENT</td>\n",
       "    </tr>\n",
       "    <tr>\n",
       "      <th>1048574</th>\n",
       "      <td>PAYMENT</td>\n",
       "    </tr>\n",
       "  </tbody>\n",
       "</table>\n",
       "<p>1048575 rows × 1 columns</p>\n",
       "</div>"
      ],
      "text/plain": [
       "        Transaction_Type\n",
       "0                PAYMENT\n",
       "1                PAYMENT\n",
       "2               TRANSFER\n",
       "3               CASH_OUT\n",
       "4                PAYMENT\n",
       "...                  ...\n",
       "1048570         CASH_OUT\n",
       "1048571          PAYMENT\n",
       "1048572          PAYMENT\n",
       "1048573          PAYMENT\n",
       "1048574          PAYMENT\n",
       "\n",
       "[1048575 rows x 1 columns]"
      ]
     },
     "execution_count": 32,
     "metadata": {},
     "output_type": "execute_result"
    }
   ],
   "source": [
    "#filter using the categorical variables created\n",
    "df[cat]"
   ]
  },
  {
   "cell_type": "code",
   "execution_count": 33,
   "id": "5ac9adae",
   "metadata": {},
   "outputs": [
    {
     "data": {
      "text/html": [
       "<div>\n",
       "<style scoped>\n",
       "    .dataframe tbody tr th:only-of-type {\n",
       "        vertical-align: middle;\n",
       "    }\n",
       "\n",
       "    .dataframe tbody tr th {\n",
       "        vertical-align: top;\n",
       "    }\n",
       "\n",
       "    .dataframe thead th {\n",
       "        text-align: right;\n",
       "    }\n",
       "</style>\n",
       "<table border=\"1\" class=\"dataframe\">\n",
       "  <thead>\n",
       "    <tr style=\"text-align: right;\">\n",
       "      <th></th>\n",
       "      <th>Transaction_Type_CASH_IN</th>\n",
       "      <th>Transaction_Type_CASH_OUT</th>\n",
       "      <th>Transaction_Type_DEBIT</th>\n",
       "      <th>Transaction_Type_PAYMENT</th>\n",
       "      <th>Transaction_Type_TRANSFER</th>\n",
       "    </tr>\n",
       "  </thead>\n",
       "  <tbody>\n",
       "    <tr>\n",
       "      <th>0</th>\n",
       "      <td>0</td>\n",
       "      <td>0</td>\n",
       "      <td>0</td>\n",
       "      <td>1</td>\n",
       "      <td>0</td>\n",
       "    </tr>\n",
       "    <tr>\n",
       "      <th>1</th>\n",
       "      <td>0</td>\n",
       "      <td>0</td>\n",
       "      <td>0</td>\n",
       "      <td>1</td>\n",
       "      <td>0</td>\n",
       "    </tr>\n",
       "    <tr>\n",
       "      <th>2</th>\n",
       "      <td>0</td>\n",
       "      <td>0</td>\n",
       "      <td>0</td>\n",
       "      <td>0</td>\n",
       "      <td>1</td>\n",
       "    </tr>\n",
       "    <tr>\n",
       "      <th>3</th>\n",
       "      <td>0</td>\n",
       "      <td>1</td>\n",
       "      <td>0</td>\n",
       "      <td>0</td>\n",
       "      <td>0</td>\n",
       "    </tr>\n",
       "    <tr>\n",
       "      <th>4</th>\n",
       "      <td>0</td>\n",
       "      <td>0</td>\n",
       "      <td>0</td>\n",
       "      <td>1</td>\n",
       "      <td>0</td>\n",
       "    </tr>\n",
       "  </tbody>\n",
       "</table>\n",
       "</div>"
      ],
      "text/plain": [
       "   Transaction_Type_CASH_IN  Transaction_Type_CASH_OUT  \\\n",
       "0                         0                          0   \n",
       "1                         0                          0   \n",
       "2                         0                          0   \n",
       "3                         0                          1   \n",
       "4                         0                          0   \n",
       "\n",
       "   Transaction_Type_DEBIT  Transaction_Type_PAYMENT  Transaction_Type_TRANSFER  \n",
       "0                       0                         1                          0  \n",
       "1                       0                         1                          0  \n",
       "2                       0                         0                          1  \n",
       "3                       0                         0                          0  \n",
       "4                       0                         1                          0  "
      ]
     },
     "execution_count": 33,
     "metadata": {},
     "output_type": "execute_result"
    }
   ],
   "source": [
    "# use pd.get_dummies() for one hot encoding\n",
    "cat_dummy=pd.get_dummies(df[cat])\n",
    "#view the dataset\n",
    "cat_dummy.head()"
   ]
  },
  {
   "cell_type": "code",
   "execution_count": 34,
   "id": "2a78a7b4",
   "metadata": {},
   "outputs": [
    {
     "name": "stdout",
     "output_type": "stream",
     "text": [
      "<class 'pandas.core.frame.DataFrame'>\n",
      "RangeIndex: 1048575 entries, 0 to 1048574\n",
      "Data columns (total 5 columns):\n",
      " #   Column                     Non-Null Count    Dtype\n",
      "---  ------                     --------------    -----\n",
      " 0   Transaction_Type_CASH_IN   1048575 non-null  uint8\n",
      " 1   Transaction_Type_CASH_OUT  1048575 non-null  uint8\n",
      " 2   Transaction_Type_DEBIT     1048575 non-null  uint8\n",
      " 3   Transaction_Type_PAYMENT   1048575 non-null  uint8\n",
      " 4   Transaction_Type_TRANSFER  1048575 non-null  uint8\n",
      "dtypes: uint8(5)\n",
      "memory usage: 5.0 MB\n"
     ]
    }
   ],
   "source": [
    "#view the data types\n",
    "cat_dummy.info()"
   ]
  },
  {
   "cell_type": "code",
   "execution_count": 35,
   "id": "8a325218",
   "metadata": {},
   "outputs": [],
   "source": [
    "#join the encoced into the original dataset\n",
    "df=pd.concat([df,cat_dummy],axis=1)"
   ]
  },
  {
   "cell_type": "code",
   "execution_count": 36,
   "id": "7352b66e",
   "metadata": {},
   "outputs": [
    {
     "data": {
      "text/html": [
       "<div>\n",
       "<style scoped>\n",
       "    .dataframe tbody tr th:only-of-type {\n",
       "        vertical-align: middle;\n",
       "    }\n",
       "\n",
       "    .dataframe tbody tr th {\n",
       "        vertical-align: top;\n",
       "    }\n",
       "\n",
       "    .dataframe thead th {\n",
       "        text-align: right;\n",
       "    }\n",
       "</style>\n",
       "<table border=\"1\" class=\"dataframe\">\n",
       "  <thead>\n",
       "    <tr style=\"text-align: right;\">\n",
       "      <th></th>\n",
       "      <th>Time</th>\n",
       "      <th>Transaction_Type</th>\n",
       "      <th>Amount</th>\n",
       "      <th>Sender</th>\n",
       "      <th>Sender_OldBalance</th>\n",
       "      <th>Sender_NewBalance</th>\n",
       "      <th>Receiver</th>\n",
       "      <th>Receiver_OldBalance</th>\n",
       "      <th>Receiver_NewBalance</th>\n",
       "      <th>Fraud</th>\n",
       "      <th>Transaction_Type_CASH_IN</th>\n",
       "      <th>Transaction_Type_CASH_OUT</th>\n",
       "      <th>Transaction_Type_DEBIT</th>\n",
       "      <th>Transaction_Type_PAYMENT</th>\n",
       "      <th>Transaction_Type_TRANSFER</th>\n",
       "    </tr>\n",
       "  </thead>\n",
       "  <tbody>\n",
       "    <tr>\n",
       "      <th>0</th>\n",
       "      <td>1</td>\n",
       "      <td>PAYMENT</td>\n",
       "      <td>9839.64</td>\n",
       "      <td>C1231006815</td>\n",
       "      <td>170136.0</td>\n",
       "      <td>160296.36</td>\n",
       "      <td>M1979787155</td>\n",
       "      <td>0.0</td>\n",
       "      <td>0.0</td>\n",
       "      <td>0</td>\n",
       "      <td>0</td>\n",
       "      <td>0</td>\n",
       "      <td>0</td>\n",
       "      <td>1</td>\n",
       "      <td>0</td>\n",
       "    </tr>\n",
       "    <tr>\n",
       "      <th>1</th>\n",
       "      <td>1</td>\n",
       "      <td>PAYMENT</td>\n",
       "      <td>1864.28</td>\n",
       "      <td>C1666544295</td>\n",
       "      <td>21249.0</td>\n",
       "      <td>19384.72</td>\n",
       "      <td>M2044282225</td>\n",
       "      <td>0.0</td>\n",
       "      <td>0.0</td>\n",
       "      <td>0</td>\n",
       "      <td>0</td>\n",
       "      <td>0</td>\n",
       "      <td>0</td>\n",
       "      <td>1</td>\n",
       "      <td>0</td>\n",
       "    </tr>\n",
       "    <tr>\n",
       "      <th>2</th>\n",
       "      <td>1</td>\n",
       "      <td>TRANSFER</td>\n",
       "      <td>181.00</td>\n",
       "      <td>C1305486145</td>\n",
       "      <td>181.0</td>\n",
       "      <td>0.00</td>\n",
       "      <td>C553264065</td>\n",
       "      <td>0.0</td>\n",
       "      <td>0.0</td>\n",
       "      <td>1</td>\n",
       "      <td>0</td>\n",
       "      <td>0</td>\n",
       "      <td>0</td>\n",
       "      <td>0</td>\n",
       "      <td>1</td>\n",
       "    </tr>\n",
       "    <tr>\n",
       "      <th>3</th>\n",
       "      <td>1</td>\n",
       "      <td>CASH_OUT</td>\n",
       "      <td>181.00</td>\n",
       "      <td>C840083671</td>\n",
       "      <td>181.0</td>\n",
       "      <td>0.00</td>\n",
       "      <td>C38997010</td>\n",
       "      <td>21182.0</td>\n",
       "      <td>0.0</td>\n",
       "      <td>1</td>\n",
       "      <td>0</td>\n",
       "      <td>1</td>\n",
       "      <td>0</td>\n",
       "      <td>0</td>\n",
       "      <td>0</td>\n",
       "    </tr>\n",
       "    <tr>\n",
       "      <th>4</th>\n",
       "      <td>1</td>\n",
       "      <td>PAYMENT</td>\n",
       "      <td>11668.14</td>\n",
       "      <td>C2048537720</td>\n",
       "      <td>41554.0</td>\n",
       "      <td>29885.86</td>\n",
       "      <td>M1230701703</td>\n",
       "      <td>0.0</td>\n",
       "      <td>0.0</td>\n",
       "      <td>0</td>\n",
       "      <td>0</td>\n",
       "      <td>0</td>\n",
       "      <td>0</td>\n",
       "      <td>1</td>\n",
       "      <td>0</td>\n",
       "    </tr>\n",
       "  </tbody>\n",
       "</table>\n",
       "</div>"
      ],
      "text/plain": [
       "   Time Transaction_Type    Amount       Sender  Sender_OldBalance  \\\n",
       "0     1          PAYMENT   9839.64  C1231006815           170136.0   \n",
       "1     1          PAYMENT   1864.28  C1666544295            21249.0   \n",
       "2     1         TRANSFER    181.00  C1305486145              181.0   \n",
       "3     1         CASH_OUT    181.00   C840083671              181.0   \n",
       "4     1          PAYMENT  11668.14  C2048537720            41554.0   \n",
       "\n",
       "   Sender_NewBalance     Receiver  Receiver_OldBalance  Receiver_NewBalance  \\\n",
       "0          160296.36  M1979787155                  0.0                  0.0   \n",
       "1           19384.72  M2044282225                  0.0                  0.0   \n",
       "2               0.00   C553264065                  0.0                  0.0   \n",
       "3               0.00    C38997010              21182.0                  0.0   \n",
       "4           29885.86  M1230701703                  0.0                  0.0   \n",
       "\n",
       "   Fraud  Transaction_Type_CASH_IN  Transaction_Type_CASH_OUT  \\\n",
       "0      0                         0                          0   \n",
       "1      0                         0                          0   \n",
       "2      1                         0                          0   \n",
       "3      1                         0                          1   \n",
       "4      0                         0                          0   \n",
       "\n",
       "   Transaction_Type_DEBIT  Transaction_Type_PAYMENT  Transaction_Type_TRANSFER  \n",
       "0                       0                         1                          0  \n",
       "1                       0                         1                          0  \n",
       "2                       0                         0                          1  \n",
       "3                       0                         0                          0  \n",
       "4                       0                         1                          0  "
      ]
     },
     "execution_count": 36,
     "metadata": {},
     "output_type": "execute_result"
    }
   ],
   "source": [
    "df.head()"
   ]
  },
  {
   "cell_type": "code",
   "execution_count": 37,
   "id": "9d1d13e6",
   "metadata": {},
   "outputs": [],
   "source": [
    "#remove the categorical variables\n",
    "df=df.drop(cat,axis=1)"
   ]
  },
  {
   "cell_type": "code",
   "execution_count": 38,
   "id": "8b789e75",
   "metadata": {},
   "outputs": [
    {
     "data": {
      "text/html": [
       "<div>\n",
       "<style scoped>\n",
       "    .dataframe tbody tr th:only-of-type {\n",
       "        vertical-align: middle;\n",
       "    }\n",
       "\n",
       "    .dataframe tbody tr th {\n",
       "        vertical-align: top;\n",
       "    }\n",
       "\n",
       "    .dataframe thead th {\n",
       "        text-align: right;\n",
       "    }\n",
       "</style>\n",
       "<table border=\"1\" class=\"dataframe\">\n",
       "  <thead>\n",
       "    <tr style=\"text-align: right;\">\n",
       "      <th></th>\n",
       "      <th>Time</th>\n",
       "      <th>Amount</th>\n",
       "      <th>Sender</th>\n",
       "      <th>Sender_OldBalance</th>\n",
       "      <th>Sender_NewBalance</th>\n",
       "      <th>Receiver</th>\n",
       "      <th>Receiver_OldBalance</th>\n",
       "      <th>Receiver_NewBalance</th>\n",
       "      <th>Fraud</th>\n",
       "      <th>Transaction_Type_CASH_IN</th>\n",
       "      <th>Transaction_Type_CASH_OUT</th>\n",
       "      <th>Transaction_Type_DEBIT</th>\n",
       "      <th>Transaction_Type_PAYMENT</th>\n",
       "      <th>Transaction_Type_TRANSFER</th>\n",
       "    </tr>\n",
       "  </thead>\n",
       "  <tbody>\n",
       "    <tr>\n",
       "      <th>0</th>\n",
       "      <td>1</td>\n",
       "      <td>9839.64</td>\n",
       "      <td>C1231006815</td>\n",
       "      <td>170136.0</td>\n",
       "      <td>160296.36</td>\n",
       "      <td>M1979787155</td>\n",
       "      <td>0.0</td>\n",
       "      <td>0.0</td>\n",
       "      <td>0</td>\n",
       "      <td>0</td>\n",
       "      <td>0</td>\n",
       "      <td>0</td>\n",
       "      <td>1</td>\n",
       "      <td>0</td>\n",
       "    </tr>\n",
       "    <tr>\n",
       "      <th>1</th>\n",
       "      <td>1</td>\n",
       "      <td>1864.28</td>\n",
       "      <td>C1666544295</td>\n",
       "      <td>21249.0</td>\n",
       "      <td>19384.72</td>\n",
       "      <td>M2044282225</td>\n",
       "      <td>0.0</td>\n",
       "      <td>0.0</td>\n",
       "      <td>0</td>\n",
       "      <td>0</td>\n",
       "      <td>0</td>\n",
       "      <td>0</td>\n",
       "      <td>1</td>\n",
       "      <td>0</td>\n",
       "    </tr>\n",
       "    <tr>\n",
       "      <th>2</th>\n",
       "      <td>1</td>\n",
       "      <td>181.00</td>\n",
       "      <td>C1305486145</td>\n",
       "      <td>181.0</td>\n",
       "      <td>0.00</td>\n",
       "      <td>C553264065</td>\n",
       "      <td>0.0</td>\n",
       "      <td>0.0</td>\n",
       "      <td>1</td>\n",
       "      <td>0</td>\n",
       "      <td>0</td>\n",
       "      <td>0</td>\n",
       "      <td>0</td>\n",
       "      <td>1</td>\n",
       "    </tr>\n",
       "    <tr>\n",
       "      <th>3</th>\n",
       "      <td>1</td>\n",
       "      <td>181.00</td>\n",
       "      <td>C840083671</td>\n",
       "      <td>181.0</td>\n",
       "      <td>0.00</td>\n",
       "      <td>C38997010</td>\n",
       "      <td>21182.0</td>\n",
       "      <td>0.0</td>\n",
       "      <td>1</td>\n",
       "      <td>0</td>\n",
       "      <td>1</td>\n",
       "      <td>0</td>\n",
       "      <td>0</td>\n",
       "      <td>0</td>\n",
       "    </tr>\n",
       "    <tr>\n",
       "      <th>4</th>\n",
       "      <td>1</td>\n",
       "      <td>11668.14</td>\n",
       "      <td>C2048537720</td>\n",
       "      <td>41554.0</td>\n",
       "      <td>29885.86</td>\n",
       "      <td>M1230701703</td>\n",
       "      <td>0.0</td>\n",
       "      <td>0.0</td>\n",
       "      <td>0</td>\n",
       "      <td>0</td>\n",
       "      <td>0</td>\n",
       "      <td>0</td>\n",
       "      <td>1</td>\n",
       "      <td>0</td>\n",
       "    </tr>\n",
       "  </tbody>\n",
       "</table>\n",
       "</div>"
      ],
      "text/plain": [
       "   Time    Amount       Sender  Sender_OldBalance  Sender_NewBalance  \\\n",
       "0     1   9839.64  C1231006815           170136.0          160296.36   \n",
       "1     1   1864.28  C1666544295            21249.0           19384.72   \n",
       "2     1    181.00  C1305486145              181.0               0.00   \n",
       "3     1    181.00   C840083671              181.0               0.00   \n",
       "4     1  11668.14  C2048537720            41554.0           29885.86   \n",
       "\n",
       "      Receiver  Receiver_OldBalance  Receiver_NewBalance  Fraud  \\\n",
       "0  M1979787155                  0.0                  0.0      0   \n",
       "1  M2044282225                  0.0                  0.0      0   \n",
       "2   C553264065                  0.0                  0.0      1   \n",
       "3    C38997010              21182.0                  0.0      1   \n",
       "4  M1230701703                  0.0                  0.0      0   \n",
       "\n",
       "   Transaction_Type_CASH_IN  Transaction_Type_CASH_OUT  \\\n",
       "0                         0                          0   \n",
       "1                         0                          0   \n",
       "2                         0                          0   \n",
       "3                         0                          1   \n",
       "4                         0                          0   \n",
       "\n",
       "   Transaction_Type_DEBIT  Transaction_Type_PAYMENT  Transaction_Type_TRANSFER  \n",
       "0                       0                         1                          0  \n",
       "1                       0                         1                          0  \n",
       "2                       0                         0                          1  \n",
       "3                       0                         0                          0  \n",
       "4                       0                         1                          0  "
      ]
     },
     "execution_count": 38,
     "metadata": {},
     "output_type": "execute_result"
    }
   ],
   "source": [
    "df.head()"
   ]
  },
  {
   "cell_type": "markdown",
   "id": "784dbcf8",
   "metadata": {},
   "source": [
    "### Machine Learning\n",
    "#### First algorithm:K-Nearest Neighbor\n",
    "#### Second Algorithm: Random Forest"
   ]
  },
  {
   "cell_type": "code",
   "execution_count": 39,
   "id": "e7a319ca",
   "metadata": {},
   "outputs": [],
   "source": [
    "#import the  necessary libraries\n",
    "from sklearn.model_selection import train_test_split\n",
    "from sklearn.neighbors import KNeighborsClassifier\n",
    "from sklearn.metrics import accuracy_score, classification_report\n",
    "from sklearn.ensemble import RandomForestClassifier"
   ]
  },
  {
   "cell_type": "code",
   "execution_count": 40,
   "id": "73a4c9bd",
   "metadata": {},
   "outputs": [],
   "source": [
    "#set your target(y as the fraud column) for train and test split\n",
    "y=df[['Fraud']]"
   ]
  },
  {
   "cell_type": "code",
   "execution_count": 41,
   "id": "cd7102ca",
   "metadata": {},
   "outputs": [],
   "source": [
    "#set x as the df data except fraud column and categorical variables\n",
    "X=df.drop(columns=['Fraud','Sender','Receiver'],axis=1)"
   ]
  },
  {
   "cell_type": "code",
   "execution_count": 42,
   "id": "db8ee470",
   "metadata": {},
   "outputs": [],
   "source": [
    "#split into training using a 30% split ratio\n",
    "X_train,X_test,y_train,y_test=train_test_split(X,y,test_size=0.3,random_state=42)"
   ]
  },
  {
   "cell_type": "code",
   "execution_count": 43,
   "id": "32bded60",
   "metadata": {},
   "outputs": [
    {
     "data": {
      "text/html": [
       "<div>\n",
       "<style scoped>\n",
       "    .dataframe tbody tr th:only-of-type {\n",
       "        vertical-align: middle;\n",
       "    }\n",
       "\n",
       "    .dataframe tbody tr th {\n",
       "        vertical-align: top;\n",
       "    }\n",
       "\n",
       "    .dataframe thead th {\n",
       "        text-align: right;\n",
       "    }\n",
       "</style>\n",
       "<table border=\"1\" class=\"dataframe\">\n",
       "  <thead>\n",
       "    <tr style=\"text-align: right;\">\n",
       "      <th></th>\n",
       "      <th>Fraud</th>\n",
       "    </tr>\n",
       "  </thead>\n",
       "  <tbody>\n",
       "    <tr>\n",
       "      <th>0</th>\n",
       "      <td>0</td>\n",
       "    </tr>\n",
       "    <tr>\n",
       "      <th>1</th>\n",
       "      <td>0</td>\n",
       "    </tr>\n",
       "    <tr>\n",
       "      <th>2</th>\n",
       "      <td>1</td>\n",
       "    </tr>\n",
       "    <tr>\n",
       "      <th>3</th>\n",
       "      <td>1</td>\n",
       "    </tr>\n",
       "    <tr>\n",
       "      <th>4</th>\n",
       "      <td>0</td>\n",
       "    </tr>\n",
       "  </tbody>\n",
       "</table>\n",
       "</div>"
      ],
      "text/plain": [
       "   Fraud\n",
       "0      0\n",
       "1      0\n",
       "2      1\n",
       "3      1\n",
       "4      0"
      ]
     },
     "execution_count": 43,
     "metadata": {},
     "output_type": "execute_result"
    }
   ],
   "source": [
    "y.head()"
   ]
  },
  {
   "cell_type": "code",
   "execution_count": 44,
   "id": "aa057449",
   "metadata": {},
   "outputs": [
    {
     "data": {
      "text/html": [
       "<div>\n",
       "<style scoped>\n",
       "    .dataframe tbody tr th:only-of-type {\n",
       "        vertical-align: middle;\n",
       "    }\n",
       "\n",
       "    .dataframe tbody tr th {\n",
       "        vertical-align: top;\n",
       "    }\n",
       "\n",
       "    .dataframe thead th {\n",
       "        text-align: right;\n",
       "    }\n",
       "</style>\n",
       "<table border=\"1\" class=\"dataframe\">\n",
       "  <thead>\n",
       "    <tr style=\"text-align: right;\">\n",
       "      <th></th>\n",
       "      <th>Time</th>\n",
       "      <th>Amount</th>\n",
       "      <th>Sender_OldBalance</th>\n",
       "      <th>Sender_NewBalance</th>\n",
       "      <th>Receiver_OldBalance</th>\n",
       "      <th>Receiver_NewBalance</th>\n",
       "      <th>Transaction_Type_CASH_IN</th>\n",
       "      <th>Transaction_Type_CASH_OUT</th>\n",
       "      <th>Transaction_Type_DEBIT</th>\n",
       "      <th>Transaction_Type_PAYMENT</th>\n",
       "      <th>Transaction_Type_TRANSFER</th>\n",
       "    </tr>\n",
       "  </thead>\n",
       "  <tbody>\n",
       "    <tr>\n",
       "      <th>0</th>\n",
       "      <td>1</td>\n",
       "      <td>9839.64</td>\n",
       "      <td>170136.0</td>\n",
       "      <td>160296.36</td>\n",
       "      <td>0.0</td>\n",
       "      <td>0.0</td>\n",
       "      <td>0</td>\n",
       "      <td>0</td>\n",
       "      <td>0</td>\n",
       "      <td>1</td>\n",
       "      <td>0</td>\n",
       "    </tr>\n",
       "    <tr>\n",
       "      <th>1</th>\n",
       "      <td>1</td>\n",
       "      <td>1864.28</td>\n",
       "      <td>21249.0</td>\n",
       "      <td>19384.72</td>\n",
       "      <td>0.0</td>\n",
       "      <td>0.0</td>\n",
       "      <td>0</td>\n",
       "      <td>0</td>\n",
       "      <td>0</td>\n",
       "      <td>1</td>\n",
       "      <td>0</td>\n",
       "    </tr>\n",
       "    <tr>\n",
       "      <th>2</th>\n",
       "      <td>1</td>\n",
       "      <td>181.00</td>\n",
       "      <td>181.0</td>\n",
       "      <td>0.00</td>\n",
       "      <td>0.0</td>\n",
       "      <td>0.0</td>\n",
       "      <td>0</td>\n",
       "      <td>0</td>\n",
       "      <td>0</td>\n",
       "      <td>0</td>\n",
       "      <td>1</td>\n",
       "    </tr>\n",
       "    <tr>\n",
       "      <th>3</th>\n",
       "      <td>1</td>\n",
       "      <td>181.00</td>\n",
       "      <td>181.0</td>\n",
       "      <td>0.00</td>\n",
       "      <td>21182.0</td>\n",
       "      <td>0.0</td>\n",
       "      <td>0</td>\n",
       "      <td>1</td>\n",
       "      <td>0</td>\n",
       "      <td>0</td>\n",
       "      <td>0</td>\n",
       "    </tr>\n",
       "    <tr>\n",
       "      <th>4</th>\n",
       "      <td>1</td>\n",
       "      <td>11668.14</td>\n",
       "      <td>41554.0</td>\n",
       "      <td>29885.86</td>\n",
       "      <td>0.0</td>\n",
       "      <td>0.0</td>\n",
       "      <td>0</td>\n",
       "      <td>0</td>\n",
       "      <td>0</td>\n",
       "      <td>1</td>\n",
       "      <td>0</td>\n",
       "    </tr>\n",
       "  </tbody>\n",
       "</table>\n",
       "</div>"
      ],
      "text/plain": [
       "   Time    Amount  Sender_OldBalance  Sender_NewBalance  Receiver_OldBalance  \\\n",
       "0     1   9839.64           170136.0          160296.36                  0.0   \n",
       "1     1   1864.28            21249.0           19384.72                  0.0   \n",
       "2     1    181.00              181.0               0.00                  0.0   \n",
       "3     1    181.00              181.0               0.00              21182.0   \n",
       "4     1  11668.14            41554.0           29885.86                  0.0   \n",
       "\n",
       "   Receiver_NewBalance  Transaction_Type_CASH_IN  Transaction_Type_CASH_OUT  \\\n",
       "0                  0.0                         0                          0   \n",
       "1                  0.0                         0                          0   \n",
       "2                  0.0                         0                          0   \n",
       "3                  0.0                         0                          1   \n",
       "4                  0.0                         0                          0   \n",
       "\n",
       "   Transaction_Type_DEBIT  Transaction_Type_PAYMENT  Transaction_Type_TRANSFER  \n",
       "0                       0                         1                          0  \n",
       "1                       0                         1                          0  \n",
       "2                       0                         0                          1  \n",
       "3                       0                         0                          0  \n",
       "4                       0                         1                          0  "
      ]
     },
     "execution_count": 44,
     "metadata": {},
     "output_type": "execute_result"
    }
   ],
   "source": [
    "X.head()"
   ]
  },
  {
   "cell_type": "markdown",
   "id": "5dd0c776",
   "metadata": {},
   "source": [
    "### K Nearest Neighbors Algorithim"
   ]
  },
  {
   "cell_type": "code",
   "execution_count": 45,
   "id": "f75e3f5f",
   "metadata": {},
   "outputs": [],
   "source": [
    "#initialize K neighbors classifier \n",
    "KNN=KNeighborsClassifier(n_neighbors=3)"
   ]
  },
  {
   "cell_type": "code",
   "execution_count": 46,
   "id": "c825801e",
   "metadata": {},
   "outputs": [
    {
     "data": {
      "text/plain": [
       "KNeighborsClassifier(n_neighbors=3)"
      ]
     },
     "execution_count": 46,
     "metadata": {},
     "output_type": "execute_result"
    }
   ],
   "source": [
    "#train the models\n",
    "KNN.fit(X_train,y_train)"
   ]
  },
  {
   "cell_type": "code",
   "execution_count": 47,
   "id": "b5260629",
   "metadata": {},
   "outputs": [
    {
     "data": {
      "text/plain": [
       "array([0, 0, 0, ..., 0, 0, 0], dtype=int64)"
      ]
     },
     "execution_count": 47,
     "metadata": {},
     "output_type": "execute_result"
    }
   ],
   "source": [
    "#predict fraud transactions\n",
    "KNN_preds=KNN.predict(X_test)\n",
    "KNN_preds"
   ]
  },
  {
   "cell_type": "code",
   "execution_count": 51,
   "id": "bbd3e7ff",
   "metadata": {},
   "outputs": [
    {
     "name": "stdout",
     "output_type": "stream",
     "text": [
      "              precision    recall  f1-score   support\n",
      "\n",
      "           0       1.00      1.00      1.00    314224\n",
      "           1       0.80      0.56      0.66       349\n",
      "\n",
      "    accuracy                           1.00    314573\n",
      "   macro avg       0.90      0.78      0.83    314573\n",
      "weighted avg       1.00      1.00      1.00    314573\n",
      "\n"
     ]
    }
   ],
   "source": [
    "#generate a classification Report for KNN\n",
    "print(classification_report(y_test,KNN_preds))"
   ]
  },
  {
   "cell_type": "markdown",
   "id": "69cb6e51",
   "metadata": {},
   "source": [
    "- K Nearest Neighbor Model showed 80% precision which means that when this model predicted fraudulent transactions, it was correct around 80% of the time.\n",
    "- Recall says that out of all transactions that was fraud, 56% of that prediction was correctly identified as fraudulent transactions.\n",
    "- Accuracy of KNN model is 100% which might be signs of unbalanced data."
   ]
  },
  {
   "cell_type": "code",
   "execution_count": 50,
   "id": "48658869",
   "metadata": {},
   "outputs": [
    {
     "data": {
      "text/plain": [
       "<sklearn.metrics._plot.confusion_matrix.ConfusionMatrixDisplay at 0x1aca279bb50>"
      ]
     },
     "execution_count": 50,
     "metadata": {},
     "output_type": "execute_result"
    },
    {
     "data": {
      "image/png": "[encoded data removed]",
      "text/plain": [
       "<Figure size 432x288 with 2 Axes>"
      ]
     },
     "metadata": {
      "needs_background": "light"
     },
     "output_type": "display_data"
    }
   ],
   "source": [
    "#import plot confusion matrix for KNN\n",
    "from sklearn.metrics import plot_confusion_matrix\n",
    "plot_confusion_matrix(KNN,X_test,y_test)"
   ]
  },
  {
   "cell_type": "markdown",
   "id": "8c59e9ad",
   "metadata": {},
   "source": [
    "- From the confusion matrix above,KNN predicted 194 clients correctly (true positives) as clients who actually made fraud transactions.\n",
    "- This model predicted that 155 transactions were not fraud transactions, but their transactions was actually fraud.This is  known as false negatives (type 2 error). to avoid this, we should aim for high recall.\n",
    "- KNN predicted that 48 transactions are fraudulent transactions meanwhile they are actually not fradulent transactions(false positive-type 1 error).\n",
    "- Number of true negatives is quite high which means our dataset is unbalanced\n",
    "\n",
    "- its safer for our model to make type 1 errors(false positive) which can  easily be rectified.\n",
    "\n",
    "- The number of false negatives is much higher than false positives"
   ]
  },
  {
   "cell_type": "markdown",
   "id": "abb13379",
   "metadata": {},
   "source": [
    "### Random Forest Algorithm"
   ]
  },
  {
   "cell_type": "code",
   "execution_count": 52,
   "id": "6a326f86",
   "metadata": {},
   "outputs": [],
   "source": [
    "#initalize Random Forest classifier\n",
    "RF=RandomForestClassifier()"
   ]
  },
  {
   "cell_type": "code",
   "execution_count": 53,
   "id": "c50ba9a0",
   "metadata": {},
   "outputs": [
    {
     "data": {
      "text/plain": [
       "RandomForestClassifier()"
      ]
     },
     "execution_count": 53,
     "metadata": {},
     "output_type": "execute_result"
    }
   ],
   "source": [
    "#train your model\n",
    "RF.fit(X_train,y_train)"
   ]
  },
  {
   "cell_type": "code",
   "execution_count": 54,
   "id": "8860dcba",
   "metadata": {},
   "outputs": [],
   "source": [
    "#store your predicition in a new variable\n",
    "RF_preds=RF.predict(X_test)"
   ]
  },
  {
   "cell_type": "code",
   "execution_count": 55,
   "id": "e08a77e9",
   "metadata": {},
   "outputs": [
    {
     "name": "stdout",
     "output_type": "stream",
     "text": [
      "              precision    recall  f1-score   support\n",
      "\n",
      "           0       1.00      1.00      1.00    314224\n",
      "           1       0.95      0.81      0.88       349\n",
      "\n",
      "    accuracy                           1.00    314573\n",
      "   macro avg       0.98      0.91      0.94    314573\n",
      "weighted avg       1.00      1.00      1.00    314573\n",
      "\n"
     ]
    }
   ],
   "source": [
    "#print a classification report\n",
    "print(classification_report(y_test,RF_preds))"
   ]
  },
  {
   "cell_type": "markdown",
   "id": "695894d2",
   "metadata": {},
   "source": [
    "- Random Forest model showed precision of 95%, which means that this model predicited that transactions that was flagged fraud is correct around 95% of the time.\n",
    "- Recall says that out of all transactions that was fraud, 81% of that predicition was correctly identified as fraudulent transactions\n",
    "- Accuracy of Random Forest model is 100% which means signs of unbalanced data. "
   ]
  },
  {
   "cell_type": "code",
   "execution_count": 56,
   "id": "b632e033",
   "metadata": {},
   "outputs": [
    {
     "data": {
      "text/plain": [
       "<sklearn.metrics._plot.confusion_matrix.ConfusionMatrixDisplay at 0x1aca269fd00>"
      ]
     },
     "execution_count": 56,
     "metadata": {},
     "output_type": "execute_result"
    },
    {
     "data": {
      "image/png": "[encoded data removed]",
      "text/plain": [
       "<Figure size 432x288 with 2 Axes>"
      ]
     },
     "metadata": {
      "needs_background": "light"
     },
     "output_type": "display_data"
    }
   ],
   "source": [
    "#confusion matrix\n",
    "plot_confusion_matrix(RF,X_test,y_test)"
   ]
  },
  {
   "cell_type": "markdown",
   "id": "de1b2fc9",
   "metadata": {},
   "source": [
    "- Random Forest predicted 283 clients correctly (true positives) as clients who actually made fraud transactions.\n",
    "\n",
    "- RF predicted that 66 transactions by client's were not fraud, but their transactions was actually fraud.This is known as false negatives (type 2 error).\n",
    "- It's safer for our model to make type 1 errors(false positive) which can  easily be rectified.\n",
    "- This time, the number of false negatives from Random Forest reduced as compared to KNN. "
   ]
  },
  {
   "cell_type": "markdown",
   "id": "651e543a",
   "metadata": {},
   "source": [
    "### AUC-ROC CURVE \n",
    "#### ROC curve is plotted based  on true positive rate and false positive rate.\n",
    "ROC tells us how capable ML models are in distinguishing between two classes. AUC(area under the curve) is used to measure the ROC\n"
   ]
  },
  {
   "cell_type": "code",
   "execution_count": 57,
   "id": "90f748e0",
   "metadata": {},
   "outputs": [],
   "source": [
    "#import Roc curve and Auc score metrics \n",
    "from sklearn.metrics import roc_curve \n",
    "from sklearn.metrics import roc_auc_score\n",
    "#plot roc curve and precision recall curve\n",
    "from sklearn.metrics import plot_roc_curve,plot_precision_recall_curve"
   ]
  },
  {
   "cell_type": "code",
   "execution_count": 58,
   "id": "825375b1",
   "metadata": {},
   "outputs": [],
   "source": [
    "#predict probabilties  for KNN\n",
    "KNN_prob=KNN.predict_proba(X_test)\n",
    "#predict probabilities for Random forest\n",
    "RF_prob=RF.predict_proba(X_test)"
   ]
  },
  {
   "cell_type": "code",
   "execution_count": 59,
   "id": "7c263276",
   "metadata": {},
   "outputs": [
    {
     "data": {
      "text/plain": [
       "[<matplotlib.lines.Line2D at 0x1ac800f0670>]"
      ]
     },
     "execution_count": 59,
     "metadata": {},
     "output_type": "execute_result"
    },
    {
     "data": {
      "image/png": "[encoded data removed]",
      "text/plain": [
       "<Figure size 432x288 with 1 Axes>"
      ]
     },
     "metadata": {
      "needs_background": "light"
     },
     "output_type": "display_data"
    }
   ],
   "source": [
    "#plot roc curve for KNN\n",
    "plot_roc_curve(KNN,X_test,y_test)\n",
    "plt.plot([0,1],[0,1],c='r')"
   ]
  },
  {
   "cell_type": "markdown",
   "id": "69d57140",
   "metadata": {},
   "source": [
    "From KNN ROC chart, the auc score is 83%.\n",
    "\n",
    "This means that KNN model is capable to identify 70% correctly between the positive class and negative class"
   ]
  },
  {
   "cell_type": "code",
   "execution_count": 60,
   "id": "29e92e86",
   "metadata": {},
   "outputs": [
    {
     "data": {
      "text/plain": [
       "[<matplotlib.lines.Line2D at 0x1ac8015b6a0>]"
      ]
     },
     "execution_count": 60,
     "metadata": {},
     "output_type": "execute_result"
    },
    {
     "data": {
      "image/png": "[encoded data removed]",
      "text/plain": [
       "<Figure size 432x288 with 1 Axes>"
      ]
     },
     "metadata": {
      "needs_background": "light"
     },
     "output_type": "display_data"
    }
   ],
   "source": [
    "#Plot Roc curve for Random forest\n",
    "plot_roc_curve(RF,X_test,y_test)\n",
    "plt.plot([0,1],[0,1],c='r')"
   ]
  },
  {
   "cell_type": "markdown",
   "id": "5261e557",
   "metadata": {},
   "source": [
    "A good ROC  curve would move towards the upper left  corner which we can see in the random forest curve.\n",
    "AUC SCORE gave 98% accuracy.\n",
    "This means our model was able to distinguish positive  class and negative class 98% correctly"
   ]
  },
  {
   "cell_type": "markdown",
   "id": "d78bd6de",
   "metadata": {},
   "source": [
    "### Comparing the two models on a single ROC chart"
   ]
  },
  {
   "cell_type": "code",
   "execution_count": 61,
   "id": "2fd22de3",
   "metadata": {},
   "outputs": [],
   "source": [
    "#generate roc curve for each models\n",
    "fpr,tpr,threshold=roc_curve(y_test,KNN_prob[:,1])\n",
    "fpr1,tpr1,threshold1=roc_curve(y_test,RF_prob[:,1])"
   ]
  },
  {
   "cell_type": "code",
   "execution_count": 62,
   "id": "844f5f30",
   "metadata": {},
   "outputs": [],
   "source": [
    "#generate auc score for the models\n",
    "KNN_auc_score=roc_auc_score(y_test,KNN_prob[:,1])\n",
    "RF_auc_score=roc_auc_score(y_test,RF_prob[:,1])"
   ]
  },
  {
   "cell_type": "code",
   "execution_count": 63,
   "id": "93aa7dcd",
   "metadata": {},
   "outputs": [
    {
     "data": {
      "image/png": "[encoded data removed]",
      "text/plain": [
       "<Figure size 432x288 with 1 Axes>"
      ]
     },
     "metadata": {
      "needs_background": "light"
     },
     "output_type": "display_data"
    }
   ],
   "source": [
    "#plot the roc curves\n",
    "plt.plot(fpr,tpr,linestyle='--',color='green',label='KNN (KNN_auc_score=%0.2f)'%KNN_auc_score)\n",
    "plt.plot(fpr1,tpr1,linestyle='--',color='blue',label='Random Forest(RF_auc_score=%0.2f)'%RF_auc_score)\n",
    "plt.plot([0,1],[0,1],'r')\n",
    "plt.title('ROC CURVE')\n",
    "plt.xlabel('FALSE POSITIVE RATE')\n",
    "plt.ylabel('TRUE POSITIVE RATE')\n",
    "plt.legend(loc='best')\n",
    "\n",
    "plt.show()\n",
    "\n"
   ]
  },
  {
   "cell_type": "markdown",
   "id": "3ddf1bf7",
   "metadata": {},
   "source": [
    "plotting both models on a single ROC curve, Random Forest is the ideal  classifier"
   ]
  },
  {
   "cell_type": "markdown",
   "id": "c0394e6f",
   "metadata": {},
   "source": [
    "### Precision and Recall Curve\n",
    "This focuses only on positive cases"
   ]
  },
  {
   "cell_type": "code",
   "execution_count": 64,
   "id": "7aefae14",
   "metadata": {},
   "outputs": [],
   "source": [
    "from sklearn.metrics import precision_recall_curve,average_precision_score\n"
   ]
  },
  {
   "cell_type": "code",
   "execution_count": 66,
   "id": "223cd69c",
   "metadata": {},
   "outputs": [
    {
     "data": {
      "text/plain": [
       "Fraud\n",
       "0        314224\n",
       "1           349\n",
       "dtype: int64"
      ]
     },
     "execution_count": 66,
     "metadata": {},
     "output_type": "execute_result"
    }
   ],
   "source": [
    "#check the counts of y test to determine baseline\n",
    "y_test.value_counts()"
   ]
  },
  {
   "cell_type": "code",
   "execution_count": 67,
   "id": "37d03243",
   "metadata": {},
   "outputs": [
    {
     "data": {
      "text/plain": [
       "0.0011094404160560507"
      ]
     },
     "execution_count": 67,
     "metadata": {},
     "output_type": "execute_result"
    }
   ],
   "source": [
    "#to get bseline for PR Curve(fraction of positive values in the test set)\n",
    "baseline=349/(349+314224)\n",
    "baseline"
   ]
  },
  {
   "cell_type": "code",
   "execution_count": 78,
   "id": "b60c02c6",
   "metadata": {},
   "outputs": [
    {
     "data": {
      "text/plain": [
       "<matplotlib.legend.Legend at 0x1ac829e88b0>"
      ]
     },
     "execution_count": 78,
     "metadata": {},
     "output_type": "execute_result"
    },
    {
     "data": {
      "image/png": "[encoded data removed]",
      "text/plain": [
       "<Figure size 432x288 with 1 Axes>"
      ]
     },
     "metadata": {
      "needs_background": "light"
     },
     "output_type": "display_data"
    }
   ],
   "source": [
    "#plot precision-recall curve\n",
    "plot_precision_recall_curve(KNN,X_test,y_test)\n",
    "plt.plot([0,1],[baseline,baseline],c='r')\n",
    "plt.title('KNN PR Curve')\n",
    "plt.xlabel('Recall')\n",
    "plt.ylabel('Precision')\n",
    "plt.legend(loc='best')"
   ]
  },
  {
   "cell_type": "markdown",
   "id": "cb5f3186",
   "metadata": {},
   "source": [
    "A perfect classifier would have a precision of 1 and recall of 1.\n",
    "\n",
    "From KNN PR curve, we can see where precision increased and the point where recall started decreasing. \n",
    "\n",
    "Average precision score is uesd to measure PR curve. KNN has an Average precision score of 54% which is not that good."
   ]
  },
  {
   "cell_type": "code",
   "execution_count": 73,
   "id": "0c8a35af",
   "metadata": {},
   "outputs": [
    {
     "data": {
      "text/plain": [
       "Text(0.5, 1.0, 'Random Forest PR Curve')"
      ]
     },
     "execution_count": 73,
     "metadata": {},
     "output_type": "execute_result"
    },
    {
     "data": {
      "image/png": "[encoded data removed]",
      "text/plain": [
       "<Figure size 432x288 with 1 Axes>"
      ]
     },
     "metadata": {
      "needs_background": "light"
     },
     "output_type": "display_data"
    }
   ],
   "source": [
    "#plot precision-recall curve for Random forest\n",
    "plot_precision_recall_curve(RF,X_test,y_test)\n",
    "plt.plot([0,1],[baseline,baseline],c='k')\n",
    "plt.xlabel('Recall')\n",
    "plt.ylabel('Precision')\n",
    "plt.legend(loc='best')\n",
    "plt.title('Random Forest PR Curve')\n"
   ]
  },
  {
   "cell_type": "markdown",
   "id": "e2080c4a",
   "metadata": {},
   "source": [
    "A large AP score determines the performance of the model.\n",
    "\n",
    "The Random forest PR Curve almost look like a perfect classifier of a PR curve, though there's a little decrement in recall.\n",
    "\n",
    "The average precision score is 90% which is better than KNN model and also far better than the baseline 0.1%\n",
    "\n"
   ]
  },
  {
   "cell_type": "markdown",
   "id": "6959a430",
   "metadata": {},
   "source": [
    "### Summary"
   ]
  },
  {
   "cell_type": "markdown",
   "id": "653b3091",
   "metadata": {},
   "source": [
    "- Transfer and Cash out payments were used for fraudulent transactions\n",
    "- KNN is not the best fit for fraud detection \n",
    "- ROC curve is not the best metric for imbalanced data evaluation\n",
    "- In detecting fraud, we should be concerned on the model that predicted more true positives and\n",
    "  avoid prediction of false negative errors which are also type 2 errors.\n",
    "- Random Forest Algorithm with its high precision and recall, is the best model for detecting fraud"
   ]
  },
  {
   "cell_type": "code",
   "execution_count": null,
   "id": "de5d4f85",
   "metadata": {},
   "outputs": [],
   "source": []
  }
 ],
 "metadata": {
  "kernelspec": {
   "display_name": "Python 3 (ipykernel)",
   "language": "python",
   "name": "python3"
  },
  "language_info": {
   "codemirror_mode": {
    "name": "ipython",
    "version": 3
   },
   "file_extension": ".py",
   "mimetype": "text/x-python",
   "name": "python",
   "nbconvert_exporter": "python",
   "pygments_lexer": "ipython3",
   "version": "3.9.12"
  }
 },
 "nbformat": 4,
 "nbformat_minor": 5
}
